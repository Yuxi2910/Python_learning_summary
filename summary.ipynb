{
 "cells": [
  {
   "cell_type": "code",
   "execution_count": 2,
   "id": "b48c2e37",
   "metadata": {},
   "outputs": [],
   "source": [
    "import pandas as pd\n",
    "import numpy as np"
   ]
  },
  {
   "cell_type": "code",
   "execution_count": 37,
   "id": "74af8fe5",
   "metadata": {},
   "outputs": [
    {
     "name": "stderr",
     "output_type": "stream",
     "text": [
      "5298.08s - pydevd: Sending message related to process being replaced timed-out after 5 seconds\n"
     ]
    },
    {
     "name": "stdout",
     "output_type": "stream",
     "text": [
      "Requirement already satisfied: seaborn in /Library/Frameworks/Python.framework/Versions/3.12/lib/python3.12/site-packages (0.13.2)\n",
      "Requirement already satisfied: numpy!=1.24.0,>=1.20 in /Library/Frameworks/Python.framework/Versions/3.12/lib/python3.12/site-packages (from seaborn) (2.2.2)\n",
      "Requirement already satisfied: pandas>=1.2 in /Library/Frameworks/Python.framework/Versions/3.12/lib/python3.12/site-packages (from seaborn) (2.2.3)\n",
      "Requirement already satisfied: matplotlib!=3.6.1,>=3.4 in /Library/Frameworks/Python.framework/Versions/3.12/lib/python3.12/site-packages (from seaborn) (3.10.0)\n",
      "Requirement already satisfied: contourpy>=1.0.1 in /Library/Frameworks/Python.framework/Versions/3.12/lib/python3.12/site-packages (from matplotlib!=3.6.1,>=3.4->seaborn) (1.3.1)\n",
      "Requirement already satisfied: cycler>=0.10 in /Library/Frameworks/Python.framework/Versions/3.12/lib/python3.12/site-packages (from matplotlib!=3.6.1,>=3.4->seaborn) (0.12.1)\n",
      "Requirement already satisfied: fonttools>=4.22.0 in /Library/Frameworks/Python.framework/Versions/3.12/lib/python3.12/site-packages (from matplotlib!=3.6.1,>=3.4->seaborn) (4.55.8)\n",
      "Requirement already satisfied: kiwisolver>=1.3.1 in /Library/Frameworks/Python.framework/Versions/3.12/lib/python3.12/site-packages (from matplotlib!=3.6.1,>=3.4->seaborn) (1.4.8)\n",
      "Requirement already satisfied: packaging>=20.0 in /Library/Frameworks/Python.framework/Versions/3.12/lib/python3.12/site-packages (from matplotlib!=3.6.1,>=3.4->seaborn) (24.2)\n",
      "Requirement already satisfied: pillow>=8 in /Library/Frameworks/Python.framework/Versions/3.12/lib/python3.12/site-packages (from matplotlib!=3.6.1,>=3.4->seaborn) (11.1.0)\n",
      "Requirement already satisfied: pyparsing>=2.3.1 in /Library/Frameworks/Python.framework/Versions/3.12/lib/python3.12/site-packages (from matplotlib!=3.6.1,>=3.4->seaborn) (3.2.1)\n",
      "Requirement already satisfied: python-dateutil>=2.7 in /Library/Frameworks/Python.framework/Versions/3.12/lib/python3.12/site-packages (from matplotlib!=3.6.1,>=3.4->seaborn) (2.9.0.post0)\n",
      "Requirement already satisfied: pytz>=2020.1 in /Library/Frameworks/Python.framework/Versions/3.12/lib/python3.12/site-packages (from pandas>=1.2->seaborn) (2025.1)\n",
      "Requirement already satisfied: tzdata>=2022.7 in /Library/Frameworks/Python.framework/Versions/3.12/lib/python3.12/site-packages (from pandas>=1.2->seaborn) (2025.1)\n",
      "Requirement already satisfied: six>=1.5 in /Library/Frameworks/Python.framework/Versions/3.12/lib/python3.12/site-packages (from python-dateutil>=2.7->matplotlib!=3.6.1,>=3.4->seaborn) (1.17.0)\n",
      "\n",
      "\u001b[1m[\u001b[0m\u001b[34;49mnotice\u001b[0m\u001b[1;39;49m]\u001b[0m\u001b[39;49m A new release of pip is available: \u001b[0m\u001b[31;49m25.0\u001b[0m\u001b[39;49m -> \u001b[0m\u001b[32;49m25.2\u001b[0m\n",
      "\u001b[1m[\u001b[0m\u001b[34;49mnotice\u001b[0m\u001b[1;39;49m]\u001b[0m\u001b[39;49m To update, run: \u001b[0m\u001b[32;49mpip install --upgrade pip\u001b[0m\n"
     ]
    }
   ],
   "source": [
    "!pip install seaborn"
   ]
  },
  {
   "cell_type": "code",
   "execution_count": 38,
   "id": "b73781fb",
   "metadata": {},
   "outputs": [],
   "source": [
    "import seaborn as sns\n",
    "import matplotlib.pyplot as plt"
   ]
  },
  {
   "cell_type": "code",
   "execution_count": 39,
   "id": "432290c2",
   "metadata": {},
   "outputs": [
    {
     "name": "stderr",
     "output_type": "stream",
     "text": [
      "5306.69s - pydevd: Sending message related to process being replaced timed-out after 5 seconds\n"
     ]
    },
    {
     "name": "stdout",
     "output_type": "stream",
     "text": [
      "Requirement already satisfied: nltk in /Library/Frameworks/Python.framework/Versions/3.12/lib/python3.12/site-packages (3.9.1)\n",
      "Requirement already satisfied: click in /Library/Frameworks/Python.framework/Versions/3.12/lib/python3.12/site-packages (from nltk) (8.2.1)\n",
      "Requirement already satisfied: joblib in /Library/Frameworks/Python.framework/Versions/3.12/lib/python3.12/site-packages (from nltk) (1.5.2)\n",
      "Requirement already satisfied: regex>=2021.8.3 in /Library/Frameworks/Python.framework/Versions/3.12/lib/python3.12/site-packages (from nltk) (2025.9.1)\n",
      "Requirement already satisfied: tqdm in /Library/Frameworks/Python.framework/Versions/3.12/lib/python3.12/site-packages (from nltk) (4.67.1)\n",
      "\n",
      "\u001b[1m[\u001b[0m\u001b[34;49mnotice\u001b[0m\u001b[1;39;49m]\u001b[0m\u001b[39;49m A new release of pip is available: \u001b[0m\u001b[31;49m25.0\u001b[0m\u001b[39;49m -> \u001b[0m\u001b[32;49m25.2\u001b[0m\n",
      "\u001b[1m[\u001b[0m\u001b[34;49mnotice\u001b[0m\u001b[1;39;49m]\u001b[0m\u001b[39;49m To update, run: \u001b[0m\u001b[32;49mpip install --upgrade pip\u001b[0m\n"
     ]
    }
   ],
   "source": [
    "!pip install nltk"
   ]
  },
  {
   "cell_type": "code",
   "execution_count": 40,
   "id": "82094f27",
   "metadata": {},
   "outputs": [
    {
     "name": "stderr",
     "output_type": "stream",
     "text": [
      "[nltk_data] Error loading stopwords: <urlopen error [SSL:\n",
      "[nltk_data]     CERTIFICATE_VERIFY_FAILED] certificate verify failed:\n",
      "[nltk_data]     unable to get local issuer certificate (_ssl.c:1000)>\n",
      "[nltk_data] Error loading wordnet: <urlopen error [SSL:\n",
      "[nltk_data]     CERTIFICATE_VERIFY_FAILED] certificate verify failed:\n",
      "[nltk_data]     unable to get local issuer certificate (_ssl.c:1000)>\n"
     ]
    },
    {
     "data": {
      "text/plain": [
       "False"
      ]
     },
     "execution_count": 40,
     "metadata": {},
     "output_type": "execute_result"
    }
   ],
   "source": [
    "import nltk\n",
    "nltk.download('stopwords')\n",
    "nltk.download('wordnet')"
   ]
  },
  {
   "cell_type": "markdown",
   "id": "31ce4500",
   "metadata": {},
   "source": [
    "# Descriptive steps"
   ]
  },
  {
   "cell_type": "code",
   "execution_count": null,
   "id": "4350952b",
   "metadata": {},
   "outputs": [
    {
     "ename": "SyntaxError",
     "evalue": "invalid syntax (3289591985.py, line 9)",
     "output_type": "error",
     "traceback": [
      "  \u001b[36mCell\u001b[39m\u001b[36m \u001b[39m\u001b[32mIn[68]\u001b[39m\u001b[32m, line 9\u001b[39m\n\u001b[31m    \u001b[39m\u001b[31minstall ydata_profiling\u001b[39m\n            ^\n\u001b[31mSyntaxError\u001b[39m\u001b[31m:\u001b[39m invalid syntax\n"
     ]
    }
   ],
   "source": [
    "## describe()\n",
    "## info()\n",
    "## head()\n",
    "## shape()\n",
    "## unique()\n",
    "## ydata-profiling >> it extends pandas library with additional EDA capabilities \n",
    "### >> opens up to a mini website with data overview info presented, can look into specific variables\n",
    "from ydata_profiling import ProfileReport\n",
    "profile = ProfileReport(df, title='Pandas Profiling Report', explorative=False)\n",
    "\n",
    "\n"
   ]
  },
  {
   "cell_type": "markdown",
   "id": "4191c90e",
   "metadata": {},
   "source": [
    "# Series, DataFrame\n"
   ]
  },
  {
   "cell_type": "code",
   "execution_count": 3,
   "id": "7e1e0a44",
   "metadata": {},
   "outputs": [
    {
     "name": "stdout",
     "output_type": "stream",
     "text": [
      "0       20\n",
      "1    Hello\n",
      "2     34.5\n",
      "3     True\n",
      "dtype: object\n"
     ]
    }
   ],
   "source": [
    "# Series\n",
    "s = pd.Series([20, \"Hello\", 34.5, True])\n",
    "print(s)"
   ]
  },
  {
   "cell_type": "code",
   "execution_count": null,
   "id": "78249f8e",
   "metadata": {},
   "outputs": [
    {
     "name": "stdout",
     "output_type": "stream",
     "text": [
      "A       20\n",
      "B    Hello\n",
      "C     34.5\n",
      "D     True\n",
      "dtype: object\n"
     ]
    }
   ],
   "source": [
    "## Series can have custom indexes, not just default 0,1,2,...N-1\n",
    "s1 = pd.Series([20, \"Hello\", 34.5, True], index=['A', 'B', 'C', 'D'])\n",
    "print(s1)"
   ]
  },
  {
   "cell_type": "code",
   "execution_count": 5,
   "id": "5318ce17",
   "metadata": {},
   "outputs": [
    {
     "name": "stdout",
     "output_type": "stream",
     "text": [
      "a        1\n",
      "b        2\n",
      "c    Hello\n",
      "dtype: object\n"
     ]
    }
   ],
   "source": [
    "## Series can be created from a dictionary\n",
    "d = {'a': 1, 'b': 2, 'c': \"Hello\"}\n",
    "s2 = pd.Series(d)\n",
    "print(s2)"
   ]
  },
  {
   "cell_type": "code",
   "execution_count": null,
   "id": "147928cf",
   "metadata": {},
   "outputs": [
    {
     "name": "stdout",
     "output_type": "stream",
     "text": [
      "2\n",
      "c\n"
     ]
    }
   ],
   "source": [
    "## get value by index, get index by value\n",
    "print(s2['b'])\n",
    "\n",
    "print(s2[s2 == \"Hello\"].index[0])  # get index by value"
   ]
  },
  {
   "cell_type": "code",
   "execution_count": 9,
   "id": "5df9460b",
   "metadata": {},
   "outputs": [
    {
     "name": "stdout",
     "output_type": "stream",
     "text": [
      "   first  second\n",
      "a      1       3\n",
      "b      2       7\n",
      "c      3       4\n"
     ]
    }
   ],
   "source": [
    "# DataFrame\n",
    "## DataFrame created from a dictionary of Series\n",
    "dict_of_series = {'first': pd.Series([1, 2, 3], index=['a', 'b', 'c']),\n",
    "                  'second': pd.Series([3, 7, 4], index=['a', 'b', 'c'])}\n",
    "df = pd.DataFrame(dict_of_series)\n",
    "print(df)\n"
   ]
  },
  {
   "cell_type": "code",
   "execution_count": 10,
   "id": "53870baf",
   "metadata": {},
   "outputs": [
    {
     "name": "stdout",
     "output_type": "stream",
     "text": [
      "   first  second\n",
      "0      1       3\n",
      "1      2       7\n",
      "2      3       4\n"
     ]
    }
   ],
   "source": [
    "## DataFrame created from a dictionary of lists\n",
    "dict_of_lists = {'first': [1, 2, 3],\n",
    "                 'second': [3, 7, 4]}\n",
    "df2 = pd.DataFrame(dict_of_lists)\n",
    "print(df2)"
   ]
  },
  {
   "cell_type": "markdown",
   "id": "bd418655",
   "metadata": {},
   "source": [
    "df2 created from a dictionary of lists gives out outputs with default indexes (int) that cannot be customized."
   ]
  },
  {
   "cell_type": "code",
   "execution_count": 11,
   "id": "4786c1e6",
   "metadata": {},
   "outputs": [
    {
     "name": "stdout",
     "output_type": "stream",
     "text": [
      "   first  second\n",
      "0      1       3\n",
      "1      2       7\n",
      "2      3       4\n"
     ]
    }
   ],
   "source": [
    "## DataFrame created from a list of dictionaries\n",
    "list_of_dicts = [{'first': 1, 'second': 3},\n",
    "                 {'first': 2, 'second': 7},\n",
    "                 {'first': 3, 'second': 4}]\n",
    "df3 = pd.DataFrame(list_of_dicts)\n",
    "print(df3)\n"
   ]
  },
  {
   "cell_type": "markdown",
   "id": "3af9a05a",
   "metadata": {},
   "source": [
    "df3 from a list of dictionaries means the table developed as if creating a matrix --> lists present in vertical form"
   ]
  },
  {
   "cell_type": "markdown",
   "id": "4ff9e201",
   "metadata": {},
   "source": [
    "## Comparing list, dict, and pandas series\n"
   ]
  },
  {
   "cell_type": "markdown",
   "id": "5ae77748",
   "metadata": {},
   "source": [
    "## Method Chaining"
   ]
  },
  {
   "cell_type": "code",
   "execution_count": null,
   "id": "30c6670b",
   "metadata": {},
   "outputs": [],
   "source": [
    "# create a new column within a method chain\n",
    "### assign() >> allows assigning new columns to a dataframe within a method chain\n",
    "\n"
   ]
  },
  {
   "cell_type": "markdown",
   "id": "533eb6ec",
   "metadata": {},
   "source": [
    "# Select rows\n",
    "\n",
    "## 1. select rows by their positions:\n",
    "\n",
    "## 2. select rows according to a criterion:\n",
    "\n",
    "## 3. select rows with query():\n",
    "query() becomes very helpful when using method chaining and there are many logical statements.\n"
   ]
  },
  {
   "cell_type": "markdown",
   "id": "a14d1d2e",
   "metadata": {},
   "source": [
    "# Select specific rows and columns\n",
    "\n",
    "loc[]\n",
    "\n",
    "iloc[]"
   ]
  },
  {
   "cell_type": "markdown",
   "id": "27e2cfbc",
   "metadata": {},
   "source": [
    "# Applying a function over rows/columns\n",
    "apply() >> apply a function along any axis of a dataframe (or along a Series)"
   ]
  },
  {
   "cell_type": "code",
   "execution_count": 69,
   "id": "54b6730c",
   "metadata": {},
   "outputs": [
    {
     "data": {
      "text/html": [
       "<div>\n",
       "<style scoped>\n",
       "    .dataframe tbody tr th:only-of-type {\n",
       "        vertical-align: middle;\n",
       "    }\n",
       "\n",
       "    .dataframe tbody tr th {\n",
       "        vertical-align: top;\n",
       "    }\n",
       "\n",
       "    .dataframe thead th {\n",
       "        text-align: right;\n",
       "    }\n",
       "</style>\n",
       "<table border=\"1\" class=\"dataframe\">\n",
       "  <thead>\n",
       "    <tr style=\"text-align: right;\">\n",
       "      <th></th>\n",
       "      <th>Amy</th>\n",
       "      <th>Ben</th>\n",
       "    </tr>\n",
       "  </thead>\n",
       "  <tbody>\n",
       "    <tr>\n",
       "      <th>0</th>\n",
       "      <td>1</td>\n",
       "      <td>6</td>\n",
       "    </tr>\n",
       "    <tr>\n",
       "      <th>1</th>\n",
       "      <td>4</td>\n",
       "      <td>2</td>\n",
       "    </tr>\n",
       "    <tr>\n",
       "      <th>2</th>\n",
       "      <td>5</td>\n",
       "      <td>5</td>\n",
       "    </tr>\n",
       "  </tbody>\n",
       "</table>\n",
       "</div>"
      ],
      "text/plain": [
       "   Amy  Ben\n",
       "0    1    6\n",
       "1    4    2\n",
       "2    5    5"
      ]
     },
     "execution_count": 69,
     "metadata": {},
     "output_type": "execute_result"
    }
   ],
   "source": [
    "# apply() example\n",
    "df = pd.DataFrame(np.random.randint(1, 7, size=(3, 2)), columns=['Amy', 'Ben'])\n",
    "df"
   ]
  },
  {
   "cell_type": "markdown",
   "id": "a1090178",
   "metadata": {},
   "source": [
    "How to compute the difference between the minimum and maximum number for each person?"
   ]
  },
  {
   "cell_type": "code",
   "execution_count": 77,
   "id": "201e8bf1",
   "metadata": {},
   "outputs": [
    {
     "name": "stdout",
     "output_type": "stream",
     "text": [
      "Amy    4\n",
      "Ben    4\n",
      "dtype: int64\n",
      "Amy    4\n",
      "Ben    4\n",
      "dtype: int64\n",
      "10\n"
     ]
    },
    {
     "data": {
      "text/plain": [
       "Amy    3.333333\n",
       "Ben    4.333333\n",
       "dtype: float64"
      ]
     },
     "execution_count": 77,
     "metadata": {},
     "output_type": "execute_result"
    }
   ],
   "source": [
    "min_df = df.min()\n",
    "max_df = df.max()\n",
    "max_minus_min = max_df - min_df\n",
    "print(max_minus_min)\n",
    "\n",
    "# a function for df as a whole (an inline function: don't need to define a new name by using lambda x)\n",
    "print(df.apply(lambda x: x.max() - x.min()))  ## apply a lambda function\n",
    "\n",
    "## lambda arguments: expression\n",
    "### e.g.\n",
    "double = lambda x: x * 2\n",
    "print(double(5))\n",
    "\n",
    "## other common functions: sum, mean, etc.\n",
    "df.apply(lambda x: x.sum())\n",
    "df.apply(lambda x: x.mean())\n",
    "\n"
   ]
  },
  {
   "cell_type": "markdown",
   "id": "2f11ed19",
   "metadata": {},
   "source": [
    "## map() >> element-wise function application\n",
    "map() applies a function to each element of the dataframe."
   ]
  },
  {
   "cell_type": "code",
   "execution_count": 75,
   "id": "09f72745",
   "metadata": {},
   "outputs": [
    {
     "name": "stdout",
     "output_type": "stream",
     "text": [
      "   Amy  Ben\n",
      "0    1   36\n",
      "1   16    4\n",
      "2   25   25\n"
     ]
    }
   ],
   "source": [
    "# map() example\n",
    "df\n",
    "print(df.map(lambda x: x ** 2))  ## map a lambda function"
   ]
  },
  {
   "cell_type": "markdown",
   "id": "96cbc4d2",
   "metadata": {},
   "source": [
    "## Rename() columns\n",
    "\n",
    "## Drop() rows/columns"
   ]
  },
  {
   "cell_type": "markdown",
   "id": "3e323284",
   "metadata": {},
   "source": [
    "# drop duplicates"
   ]
  },
  {
   "cell_type": "code",
   "execution_count": null,
   "id": "d8777522",
   "metadata": {},
   "outputs": [],
   "source": [
    "# e.g.astronauts data\n",
    "remove_duplicate_astronauts = astronauts.drop_duplicates(subset=['name', 'gender', 'birth', 'nationality'], keep='first') # keep info on their first mission\n",
    "remove_duplicate_astronauts.head()\n",
    "## keep='first' >> keep the first occurrence\n",
    "## keep='last' >> keep the last occurrence\n",
    "## keep=False >> drop all duplicates\n",
    "## drop_duplicates() >> drop duplicate rows\n",
    "### why still need keep='first' when we already drop duplicates? because there are still duplicate rows after dropping duplicates based on subset of columns"
   ]
  },
  {
   "cell_type": "markdown",
   "id": "52fa5182",
   "metadata": {},
   "source": [
    "# Summarise data"
   ]
  },
  {
   "cell_type": "markdown",
   "id": "23303166",
   "metadata": {},
   "source": [
    "## groupby"
   ]
  },
  {
   "cell_type": "markdown",
   "id": "2bcf2d7f",
   "metadata": {},
   "source": [
    "## 1. aggregate() or agg()\n",
    "computes a summary statistic for each group"
   ]
  },
  {
   "cell_type": "markdown",
   "id": "e8cabf84",
   "metadata": {},
   "source": [
    "### other aggregation statistics\n",
    "median(), quantile()\n",
    "mode()\n",
    "count()\n",
    "min(), max()\n",
    "var(), std()\n",
    "sum(),\n",
    "cumsum(), cummax(), cummin() track summary statistics over rows\n",
    "value_counts() a convenient shortcut to count the number of records in each group"
   ]
  },
  {
   "cell_type": "code",
   "execution_count": null,
   "id": "9759dde8",
   "metadata": {},
   "outputs": [],
   "source": [
    "# "
   ]
  },
  {
   "cell_type": "markdown",
   "id": "97dc60d7",
   "metadata": {},
   "source": [
    "## 2. transform()\n",
    "performs some group-specific computations and returns an object of the same length, so the new dataframe contains the same length as the original one while with some transformations\n",
    "e.g. fill NAs with group mean, standarize score within a group \n",
    "Q: what would be the lambda function we need for the z-score?"
   ]
  },
  {
   "cell_type": "code",
   "execution_count": null,
   "id": "3022efd0",
   "metadata": {},
   "outputs": [],
   "source": []
  },
  {
   "cell_type": "markdown",
   "id": "92871bc7",
   "metadata": {},
   "source": [
    "# Indexes\n",
    "\n",
    "## reset the index\n",
    "reset_index()\n",
    "\n",
    "## set an index\n",
    "set_index() ##the reverse of reset"
   ]
  },
  {
   "cell_type": "markdown",
   "id": "97126e07",
   "metadata": {},
   "source": [
    "# Sorting the data\n",
    "df.sort_values(by=column(s), ascending=False)\n",
    "\n",
    "e.g. Q: who were the 3 oldest astronauts?\n",
    "\n",
    "nlargest()\n",
    "nsmallest()\n",
    "\n",
    "astronauts.nlargest(3, 'age_at_mission', keep='all') ##keep='all' might lead to output with more than3 rows if top 3 largest have more than 3 rows (e.g. in column 'age_at_mission', 71 is the 3rd largest, but has 2 rows that contain 71 --> final output = 4 rows)\n",
    "\n",
    "## add a rank column\n"
   ]
  },
  {
   "cell_type": "markdown",
   "id": "e2803c2a",
   "metadata": {},
   "source": [
    "# Work with missing data\n",
    "## how to find rows with missing?\n",
    "isna()\n",
    "\n",
    "e.g. astronauts data\n",
    "row_with_na = astronauts[astronauts.isna().any(axis=1)] ##any() here\n",
    "row_with_na\n",
    "\n",
    "## fill missing values\n",
    "fillna()\n",
    "e.g. fillna(unknown) ##so na cells now filled with word 'unknown'\n",
    "\n",
    "## drop rows/columns with missing values\n",
    "dropna()\n",
    "--> df.dropna()\n",
    "\n",
    "Then check using df.shape()\n",
    "\n",
    "## missingno: a useful extension to visualize missingness"
   ]
  },
  {
   "cell_type": "code",
   "execution_count": null,
   "id": "7cf51205",
   "metadata": {},
   "outputs": [],
   "source": [
    "# missingno example\n",
    "%matplotlib inline\n",
    "import missingno as msno\n",
    "\n",
    "astronauts_missing = astronauts.copy()\n",
    "for col in astronauts_missing.columns:\n",
    "    astronauts_missing.loc[astronauts_missing.sample(frac=0.1).index, col] = np.nan\n",
    "\n",
    "# Visualize missing values as a matrix \n",
    "msno.matrix(astronauts_missing)"
   ]
  },
  {
   "cell_type": "markdown",
   "id": "188de0b1",
   "metadata": {},
   "source": [
    "## Visualize the correlation between the number of missing values in different columns as a heatmap\n",
    "msno.heatmap(astronauts_missing) "
   ]
  },
  {
   "cell_type": "markdown",
   "id": "9269a92d",
   "metadata": {},
   "source": [
    "# Reshaping\n",
    "Oftentimes, you will need to change the format of a dataset.\n",
    "\n",
    "melt(): wide to long\n",
    "pivot(): long to wide\n",
    "\n",
    "## melt()\n",
    "\n",
    "## pivot()"
   ]
  },
  {
   "cell_type": "markdown",
   "id": "8e5b3ddf",
   "metadata": {},
   "source": [
    "# apply() vs transform()"
   ]
  },
  {
   "cell_type": "markdown",
   "id": "a9c1ef82",
   "metadata": {},
   "source": [
    "# Merge dataframe\n",
    "## concat() \n",
    "### row-wise concat()\n",
    "\n",
    "### column-wise concat()\n",
    "\n",
    "\n",
    "## merge() --> join\n",
    "Left, right, inner, outer joins\n",
    "\n"
   ]
  },
  {
   "cell_type": "code",
   "execution_count": 41,
   "id": "48a687c7",
   "metadata": {},
   "outputs": [
    {
     "name": "stdout",
     "output_type": "stream",
     "text": [
      "just right\n"
     ]
    }
   ],
   "source": [
    "x = 3\n",
    "if x > 3:\n",
    "    print(\"large\")\n",
    "elif x == 3:\n",
    "    print(\"just right\")\n",
    "else:\n",
    "    print(\"small\")"
   ]
  },
  {
   "cell_type": "code",
   "execution_count": 42,
   "id": "a93343b1",
   "metadata": {},
   "outputs": [
    {
     "name": "stdout",
     "output_type": "stream",
     "text": [
      "set()\n"
     ]
    }
   ],
   "source": [
    "# lists\n",
    "# set\n",
    "\n",
    "my_set = set()\n",
    "print(my_set)"
   ]
  },
  {
   "cell_type": "code",
   "execution_count": 43,
   "id": "168fba7e",
   "metadata": {},
   "outputs": [
    {
     "name": "stdout",
     "output_type": "stream",
     "text": [
      "{'tuesday', 'Monday', 'monday'}\n"
     ]
    }
   ],
   "source": [
    "my_set.add(\"monday\")\n",
    "my_set.add(\"tuesday\")\n",
    "my_set.add(\"Monday\")\n",
    "my_set.add(\"monday\")  # Duplicate, will not be added again, only gonna show up once\n",
    "print(my_set)"
   ]
  },
  {
   "cell_type": "code",
   "execution_count": 44,
   "id": "6e83c3ca",
   "metadata": {},
   "outputs": [
    {
     "data": {
      "text/plain": [
       "False"
      ]
     },
     "execution_count": 44,
     "metadata": {},
     "output_type": "execute_result"
    }
   ],
   "source": [
    "\"monday\" == \"Monday\"  # Case sensitive >> Tell you if True/False"
   ]
  },
  {
   "cell_type": "code",
   "execution_count": 45,
   "id": "a0299674",
   "metadata": {},
   "outputs": [
    {
     "name": "stdout",
     "output_type": "stream",
     "text": [
      "{'vegetarian', 'fish', 'nyc', '20-24'}\n",
      "{'55+', 'fish', 'nyc', 'carnivore'}\n"
     ]
    }
   ],
   "source": [
    "## now wants to create more complex sets, comparison between two sets\n",
    "set_a = set()\n",
    "set_a.add(\"20-24\")\n",
    "set_a.add(\"nyc\")\n",
    "set_a.add(\"fish\")\n",
    "set_a.add(\"vegetarian\")\n",
    "\n",
    "set_b = set()\n",
    "set_b.add(\"55+\")\n",
    "set_b.add(\"nyc\")\n",
    "set_b.add(\"fish\")\n",
    "set_b.add(\"carnivore\")\n",
    "\n",
    "print(set_a)\n",
    "print(set_b)"
   ]
  },
  {
   "cell_type": "code",
   "execution_count": 46,
   "id": "1f76e2bf",
   "metadata": {},
   "outputs": [
    {
     "name": "stdout",
     "output_type": "stream",
     "text": [
      "{'fish', 'nyc'}\n"
     ]
    }
   ],
   "source": [
    "## Try searching for python logic set operation >> form Venn diagram, etc.\n",
    "## what do these sets share between each --> intersection\n",
    "the_int = set_a.intersection(set_b)  #order does not matter\n",
    "print(the_int)"
   ]
  },
  {
   "cell_type": "code",
   "execution_count": 47,
   "id": "1b6675d0",
   "metadata": {},
   "outputs": [
    {
     "name": "stdout",
     "output_type": "stream",
     "text": [
      "{'fish', 'carnivore', '20-24', '55+', 'nyc', 'vegetarian'}\n"
     ]
    }
   ],
   "source": [
    "## what are ALL the attributes between the two sets --> union\n",
    "the_union = set_a.union(set_b)\n",
    "print(the_union)"
   ]
  },
  {
   "cell_type": "code",
   "execution_count": 48,
   "id": "0623b1ca",
   "metadata": {},
   "outputs": [
    {
     "name": "stdout",
     "output_type": "stream",
     "text": [
      "{'20-24', 'vegetarian'}\n",
      "{'55+', 'carnivore'}\n"
     ]
    }
   ],
   "source": [
    "## what is unique to each set --> difference\n",
    "the_diff_a = set_a.difference(set_b)\n",
    "the_diff_b = set_b.difference(set_a)\n",
    "print(the_diff_a)\n",
    "print(the_diff_b)"
   ]
  },
  {
   "cell_type": "code",
   "execution_count": 49,
   "id": "0121d2fe",
   "metadata": {},
   "outputs": [],
   "source": [
    "# Function\n",
    "## Definition - reusable block of code\n",
    "## e.g.1\n",
    "def hello_world():\n",
    "    print(\"Hello World!\")"
   ]
  },
  {
   "cell_type": "code",
   "execution_count": 50,
   "id": "9a34cdda",
   "metadata": {},
   "outputs": [
    {
     "name": "stdout",
     "output_type": "stream",
     "text": [
      "Hello World!\n"
     ]
    }
   ],
   "source": [
    "hello_world()"
   ]
  },
  {
   "cell_type": "code",
   "execution_count": 51,
   "id": "e6b47d0a",
   "metadata": {},
   "outputs": [],
   "source": [
    "## e.g.2\n",
    "def str_cat(a_in, b_in):\n",
    "    tmp = a_in + b_in\n",
    "    return tmp"
   ]
  },
  {
   "cell_type": "code",
   "execution_count": 52,
   "id": "371fe40d",
   "metadata": {},
   "outputs": [
    {
     "name": "stdout",
     "output_type": "stream",
     "text": [
      "6\n",
      "qmss\n"
     ]
    }
   ],
   "source": [
    "print (str_cat(1, 5))  # 1 is a_in, 5 is b_in, output = 1 + 5 = 6\n",
    "print (str_cat(\"qm\", \"ss\"))  # \"qm\" is a_in, \"ss\" is b_in, output = \"qm\" + \"ss\" = \"qmss\""
   ]
  },
  {
   "cell_type": "code",
   "execution_count": 53,
   "id": "8f1ebb39",
   "metadata": {},
   "outputs": [
    {
     "name": "stdout",
     "output_type": "stream",
     "text": [
      "['its', 'monday', 'night', 'and', 'its', 'nice', 'outside']\n",
      "['its monday night', 'and its nice outside']\n"
     ]
    }
   ],
   "source": [
    "str_a = \"its monday night and its nice outside\"\n",
    "\n",
    "# tokenization\n",
    "t_ex = str_a.split(\" \") #defaults split on a space >> split(\" \")\n",
    "print(t_ex)\n",
    "\n",
    "# \",\" split the string at every comma >> split(\",\")\n",
    "str_b = \"its monday night,and its nice outside\"\n",
    "t_ex2 = str_b.split(\",\")\n",
    "print(t_ex2)"
   ]
  },
  {
   "cell_type": "code",
   "execution_count": 54,
   "id": "da7e2690",
   "metadata": {},
   "outputs": [
    {
     "data": {
      "text/plain": [
       "7"
      ]
     },
     "execution_count": 54,
     "metadata": {},
     "output_type": "execute_result"
    }
   ],
   "source": [
    "len(t_ex)  # length of the list"
   ]
  },
  {
   "cell_type": "code",
   "execution_count": 55,
   "id": "5eb7f558",
   "metadata": {},
   "outputs": [
    {
     "name": "stdout",
     "output_type": "stream",
     "text": [
      "0.2222222222222222\n"
     ]
    }
   ],
   "source": [
    "# jaccardian measure --> similarity between two sets = len(intersection) / len(union)\n",
    "str_c = \"the politician gave a great speech\"\n",
    "str_d = \"the politician spoke to the crowd\"\n",
    "\n",
    "j = len(set(str_c.split(\" \")).intersection(set(str_d.split(\" \")))) / len(set(str_c.split(\" \")).union(set(str_d.split(\" \"))))\n",
    "print(j)"
   ]
  },
  {
   "cell_type": "code",
   "execution_count": 56,
   "id": "252e8c09",
   "metadata": {},
   "outputs": [
    {
     "name": "stdout",
     "output_type": "stream",
     "text": [
      "{'sat', 'on', 'the'}\n",
      "{'mat', 'log', 'sat', 'cat', 'on', 'dog', 'the'}\n",
      "0.42857142857142855\n"
     ]
    }
   ],
   "source": [
    "## jaccardian measure exercise\n",
    "## jm = len(intersection) / len(union) range(0,1)\n",
    "## create a function called jm which takes in two strings and outputs the len(intersection) / len(union)\n",
    "\n",
    "str1 = \"the cat sat on the mat\"\n",
    "str2 = \"the dog sat on the log\"\n",
    "\n",
    "## intersection\n",
    "the_int_jm = set(str1.split(\" \")).intersection(set(str2.split(\" \")))\n",
    "print(the_int_jm)\n",
    "\n",
    "## union\n",
    "the_union_jm = set(str1.split(\" \")).union(set(str2.split(\" \")))\n",
    "print(the_union_jm)\n",
    "\n",
    "## jaccardian measure\n",
    "jm = len(the_int_jm) / len(the_union_jm)\n",
    "print(jm)"
   ]
  },
  {
   "cell_type": "code",
   "execution_count": 57,
   "id": "3f71ac6f",
   "metadata": {},
   "outputs": [
    {
     "name": "stdout",
     "output_type": "stream",
     "text": [
      "0.42857142857142855\n"
     ]
    }
   ],
   "source": [
    "## form a function that can be resused for jm\n",
    "def j(str_a, str_b):\n",
    "    the_int = set(str_a.split(\" \")).intersection(set(str_b.split(\" \")))\n",
    "    the_union = set(str_a.split(\" \")).union(set(str_b.split(\" \")))\n",
    "    j = len(the_int) / len(the_union)\n",
    "    return j\n",
    "\n",
    "print(j(str1, str2))"
   ]
  },
  {
   "cell_type": "code",
   "execution_count": 58,
   "id": "96b913c7",
   "metadata": {},
   "outputs": [
    {
     "data": {
      "text/plain": [
       "1.0"
      ]
     },
     "execution_count": 58,
     "metadata": {},
     "output_type": "execute_result"
    }
   ],
   "source": [
    "j(\"a b c\", \"a b c\")"
   ]
  },
  {
   "cell_type": "code",
   "execution_count": 59,
   "id": "cb3150f1",
   "metadata": {},
   "outputs": [
    {
     "data": {
      "text/plain": [
       "0.5"
      ]
     },
     "execution_count": 59,
     "metadata": {},
     "output_type": "execute_result"
    }
   ],
   "source": [
    "j(\"a b c\", \"a b d\")"
   ]
  },
  {
   "cell_type": "code",
   "execution_count": 60,
   "id": "a6aee3ca",
   "metadata": {},
   "outputs": [
    {
     "name": "stdout",
     "output_type": "stream",
     "text": [
      "{'Germany': 30, 'Britain': 40, 'India': 64, 'Japan': 23}\n",
      "40\n",
      "dict_keys(['Germany', 'Britain', 'India', 'Japan'])\n",
      "{'Germany': 30, 'Britain': 40, 'India': 64, 'Japan': 23, 'China': 55}\n",
      "{'Germany': 30, 'Britain': 40, 'India': 64, 'Japan': 23, 'China': 70}\n",
      "{'Germany': 30, 'Britain': 40, 'India': 64, 'Japan': 23}\n"
     ]
    }
   ],
   "source": [
    "# Dictionary (better than lists, can connect rows without using an index)\n",
    "## Create a dictionary (keys & values)\n",
    "cars = {\"Germany\": 30,\n",
    "        \"Britain\": 40,\n",
    "        \"India\": 64,\n",
    "        \"Japan\": 23}\n",
    "\n",
    "print(cars)\n",
    "\n",
    "## Find the value that belongs to key \"Britain\"\n",
    "print(cars[\"Britain\"])\n",
    "\n",
    "## Print all keys of the dataset >> keys()\n",
    "print(cars.keys())\n",
    "\n",
    "## Add data to existing dictionary\n",
    "cars[\"China\"] = 55\n",
    "print(cars)\n",
    "\n",
    "## Check if \"China\" has been added (results in True/False)\n",
    "\"China\" in cars\n",
    "\n",
    "## Change values (e.g. change value of \"China\" to 70)\n",
    "cars[\"China\"] = 70\n",
    "print(cars)\n",
    "\n",
    "## Remove data\n",
    "del(cars[\"China\"])\n",
    "print(cars)"
   ]
  },
  {
   "cell_type": "code",
   "execution_count": 61,
   "id": "fb9b6ee0",
   "metadata": {},
   "outputs": [],
   "source": [
    "the_dictionary = dict()  # contain key: value \n",
    "the_dictionary[\"key_a\"] = 1\n",
    "the_dictionary[\"key_b\"] = [1, 2, 4]\n",
    "the_dictionary[\"key_c\"] = {\"all\": \"whatever\"}\n",
    "the_dictionary[\"key_d\"] = {\"a\": 1, \"b\": 4}\n",
    "the_dictionary[\"key_e\"] = \"qmss class\""
   ]
  },
  {
   "cell_type": "code",
   "execution_count": 62,
   "id": "d7529121",
   "metadata": {},
   "outputs": [
    {
     "data": {
      "text/plain": [
       "{'key_a': 1,\n",
       " 'key_b': [1, 2, 4],\n",
       " 'key_c': {'all': 'whatever'},\n",
       " 'key_d': {'a': 1, 'b': 4},\n",
       " 'key_e': 'qmss class'}"
      ]
     },
     "execution_count": 62,
     "metadata": {},
     "output_type": "execute_result"
    }
   ],
   "source": [
    "the_dictionary"
   ]
  },
  {
   "cell_type": "code",
   "execution_count": 63,
   "id": "1a07672e",
   "metadata": {},
   "outputs": [
    {
     "name": "stdout",
     "output_type": "stream",
     "text": [
      "['key_a', 'key_b', 'key_c', 'key_d', 'key_e']\n",
      "[1, [1, 2, 4], {'all': 'whatever'}, {'a': 1, 'b': 4}, 'qmss class']\n"
     ]
    }
   ],
   "source": [
    "## show keys\n",
    "the_keys = list(the_dictionary.keys())\n",
    "print(the_keys)\n",
    "\n",
    "## show values\n",
    "the_values = list(the_dictionary.values())\n",
    "print(the_values)"
   ]
  },
  {
   "cell_type": "code",
   "execution_count": 64,
   "id": "393b5034",
   "metadata": {},
   "outputs": [
    {
     "name": "stdout",
     "output_type": "stream",
     "text": [
      "nope\n"
     ]
    }
   ],
   "source": [
    "# if statements\n",
    "if 1 == 2:\n",
    "    print(\"yeah\")\n",
    "else:\n",
    "    print(\"nope\")"
   ]
  },
  {
   "cell_type": "code",
   "execution_count": null,
   "id": "95f99944",
   "metadata": {},
   "outputs": [],
   "source": [
    "if 1 == 2:\n",
    "    print(\"yeah\")\n",
    "elif 3 == 3:\n",
    "    print(\"monday\") ## can have multiple elif, if any of the elif is true, exit the if statement\n",
    "else:\n",
    "    print(\"nope\")"
   ]
  },
  {
   "cell_type": "code",
   "execution_count": 65,
   "id": "5118ce6d",
   "metadata": {},
   "outputs": [],
   "source": [
    "# while loops\n"
   ]
  },
  {
   "cell_type": "code",
   "execution_count": 66,
   "id": "d65a1c3e",
   "metadata": {},
   "outputs": [
    {
     "ename": "SyntaxError",
     "evalue": "invalid syntax (271451839.py, line 3)",
     "output_type": "error",
     "traceback": [
      "  \u001b[36mCell\u001b[39m\u001b[36m \u001b[39m\u001b[32mIn[66]\u001b[39m\u001b[32m, line 3\u001b[39m\n\u001b[31m    \u001b[39m\u001b[31mfor\u001b[39m\n       ^\n\u001b[31mSyntaxError\u001b[39m\u001b[31m:\u001b[39m invalid syntax\n"
     ]
    }
   ],
   "source": [
    "# for loops\n",
    "t_list = list()\n",
    "for"
   ]
  },
  {
   "cell_type": "code",
   "execution_count": null,
   "id": "83fe11d2",
   "metadata": {},
   "outputs": [],
   "source": [
    "# list comprehension"
   ]
  },
  {
   "cell_type": "code",
   "execution_count": null,
   "id": "6c032434",
   "metadata": {},
   "outputs": [],
   "source": [
    "## dictionary exercise\n",
    "t_corpus = \"the wild brown trout refused my mayfly but the stocked brouwn trout ate my mayfly\"\n",
    "## how many an unique word show up in the corpus\n",
    "## create a function called word_fun that outputs a dictionary where every key is a unique token\n",
    "## and the value is the number of times that token shows up in the corpus\n",
    "\n",
    "t_tokens = t_corpus.split(\" \")\n",
    "print(t_tokens)\n",
    "\n",
    "word_fun = dict()\n",
    "for word in t_tokens:\n",
    "    \n"
   ]
  },
  {
   "cell_type": "code",
   "execution_count": null,
   "id": "0d147688",
   "metadata": {},
   "outputs": [],
   "source": [
    "# dictionary comprehension\n"
   ]
  },
  {
   "cell_type": "code",
   "execution_count": null,
   "id": "a5b31031",
   "metadata": {},
   "outputs": [
    {
     "name": "stdout",
     "output_type": "stream",
     "text": [
      "monday\n"
     ]
    }
   ],
   "source": []
  },
  {
   "cell_type": "code",
   "execution_count": null,
   "id": "c8e61058",
   "metadata": {},
   "outputs": [],
   "source": []
  },
  {
   "cell_type": "code",
   "execution_count": null,
   "id": "e06c204d",
   "metadata": {},
   "outputs": [],
   "source": [
    "\n"
   ]
  },
  {
   "cell_type": "code",
   "execution_count": 17,
   "id": "482d52af",
   "metadata": {},
   "outputs": [],
   "source": [
    "# NumPy Array"
   ]
  },
  {
   "cell_type": "code",
   "execution_count": null,
   "id": "d4c9a10d",
   "metadata": {},
   "outputs": [
    {
     "name": "stdout",
     "output_type": "stream",
     "text": [
      "              Food\n",
      "cho      chocolate\n",
      "fri  Fried_chicken\n",
      "let        lettuce\n",
      "noo         noodle\n",
      "cho        chocolate\n",
      "fri    Fried_chicken\n",
      "let          lettuce\n",
      "noo           noodle\n",
      "Name: Food, dtype: object\n",
      "              Food  Price\n",
      "cho      chocolate     10\n",
      "fri  Fried_chicken     15\n",
      "let        lettuce      4\n",
      "noo         noodle      2\n",
      "              Food  Count  Price\n",
      "cho      chocolate      3     10\n",
      "fri  Fried_chicken      5     15\n",
      "              Food  Count  Price\n",
      "cho      chocolate      3     10\n",
      "fri  Fried_chicken      5     15\n",
      "              Food  Count  Price\n",
      "fri  Fried_chicken      5     15\n",
      "let        lettuce      1      4\n"
     ]
    }
   ],
   "source": [
    "# Pandas Package\n",
    "import pandas as pd\n",
    "\n",
    "# this is how we do pd dataframe if there is a created dictionary (not in the form of a table that is ready to use)\n",
    "food = {\"chocolate\": (3, 10), \"Fried_chicken\": (5, 15), \"lettuce\": (1, 4), \"noodle\": (3, 2)}\n",
    "food_df = pd.DataFrame([(k, v[0], v[1]) for k, v in food.items()],\n",
    "columns=[\"Food\", \"Count\", \"Price\"])\n",
    "\n",
    "## Change row labels for food_df\n",
    "row_labels = [\"cho\", \"fri\", \"let\", \"noo\"]\n",
    "food_df.index = row_labels\n",
    "\n",
    "## Column Access\n",
    "print(food_df[[\"Food\"]])    # double brackets to keep the dataframe format (get the Food column name)\n",
    "print(food_df[\"Food\"])\n",
    "print(food_df[[\"Food\", \"Price\"]])\n",
    "\n",
    "## Row Access by loc/iloc\n",
    "print(food_df.loc[[\"cho\", \"fri\"]])\n",
    "print(food_df.iloc[[0, 1]])\n",
    "\n",
    "## Row Access by slicing\n",
    "print(food_df[1:3])"
   ]
  },
  {
   "cell_type": "code",
   "execution_count": null,
   "id": "d9b03b31",
   "metadata": {},
   "outputs": [],
   "source": [
    "# comparison operators, boolean operators, logical operators\n",
    "# comparison operators: >, <, >=, <=, ==, !=\n",
    "# boolean operators: and, or, not\n",
    "# logical operators: &, |, ~\n",
    "\n",
    "# example\n",
    "\n",
    "## These boolean operators cannot be used in NumPy dataframe (on an array with more than 1 element)\n",
    "## Use logical_and()\n",
    "print((food_df[\"Count\"] > 2) & (food_df[\"Price\"] < 10))\n",
    "print((logical_or(food_df[\"Count\"] > 2) | (food_df[\"Price\"] < 10)))\n",
    "print(logical_not(food_df[\"Count\"] > 2))"
   ]
  },
  {
   "cell_type": "code",
   "execution_count": null,
   "id": "be2617c6",
   "metadata": {},
   "outputs": [],
   "source": [
    "# if, elif, else statements\n",
    "# if condition:\n",
    "#     expression"
   ]
  },
  {
   "cell_type": "code",
   "execution_count": null,
   "id": "6b5eb401",
   "metadata": {},
   "outputs": [],
   "source": [
    "# For loops\n",
    "# for item in list:\n",
    "#     expression\n",
    "\n",
    "# Pandas Package\n"
   ]
  },
  {
   "cell_type": "code",
   "execution_count": null,
   "id": "64b848e3",
   "metadata": {},
   "outputs": [],
   "source": [
    "# random walk\n",
    "\n",
    "## e.g.\n",
    "# NumPy is imported, seed is set\n",
    "\n",
    "# Initialize random_walk\n",
    "random_walk = [0]\n",
    "\n",
    "# Complete the ___\n",
    "for x in range(100) :\n",
    "    # Set step: last element in random_walk\n",
    "    step = random_walk[-1]\n",
    "\n",
    "    # Roll the dice\n",
    "    dice = np.random.randint(1,7)\n",
    "\n",
    "    # Determine next step\n",
    "    if dice <= 2:\n",
    "        step = step - 1\n",
    "    elif dice <= 5:\n",
    "        step = step + 1\n",
    "    else:\n",
    "        step = step + np.random.randint(1,7)\n",
    "\n",
    "    # append next_step to random_walk\n",
    "    random_walk.append(step)\n",
    "\n",
    "# Print random_walk\n",
    "print(random_walk)"
   ]
  }
 ],
 "metadata": {
  "kernelspec": {
   "display_name": "Python 3",
   "language": "python",
   "name": "python3"
  },
  "language_info": {
   "codemirror_mode": {
    "name": "ipython",
    "version": 3
   },
   "file_extension": ".py",
   "mimetype": "text/x-python",
   "name": "python",
   "nbconvert_exporter": "python",
   "pygments_lexer": "ipython3",
   "version": "3.12.5"
  }
 },
 "nbformat": 4,
 "nbformat_minor": 5
}
