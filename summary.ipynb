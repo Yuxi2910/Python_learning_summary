{
 "cells": [
  {
   "cell_type": "code",
   "execution_count": 2,
   "id": "b48c2e37",
   "metadata": {},
   "outputs": [],
   "source": [
    "import pandas as pd\n",
    "import numpy as np"
   ]
  },
  {
   "cell_type": "code",
   "execution_count": 37,
   "id": "74af8fe5",
   "metadata": {},
   "outputs": [
    {
     "name": "stderr",
     "output_type": "stream",
     "text": [
      "5298.08s - pydevd: Sending message related to process being replaced timed-out after 5 seconds\n"
     ]
    },
    {
     "name": "stdout",
     "output_type": "stream",
     "text": [
      "Requirement already satisfied: seaborn in /Library/Frameworks/Python.framework/Versions/3.12/lib/python3.12/site-packages (0.13.2)\n",
      "Requirement already satisfied: numpy!=1.24.0,>=1.20 in /Library/Frameworks/Python.framework/Versions/3.12/lib/python3.12/site-packages (from seaborn) (2.2.2)\n",
      "Requirement already satisfied: pandas>=1.2 in /Library/Frameworks/Python.framework/Versions/3.12/lib/python3.12/site-packages (from seaborn) (2.2.3)\n",
      "Requirement already satisfied: matplotlib!=3.6.1,>=3.4 in /Library/Frameworks/Python.framework/Versions/3.12/lib/python3.12/site-packages (from seaborn) (3.10.0)\n",
      "Requirement already satisfied: contourpy>=1.0.1 in /Library/Frameworks/Python.framework/Versions/3.12/lib/python3.12/site-packages (from matplotlib!=3.6.1,>=3.4->seaborn) (1.3.1)\n",
      "Requirement already satisfied: cycler>=0.10 in /Library/Frameworks/Python.framework/Versions/3.12/lib/python3.12/site-packages (from matplotlib!=3.6.1,>=3.4->seaborn) (0.12.1)\n",
      "Requirement already satisfied: fonttools>=4.22.0 in /Library/Frameworks/Python.framework/Versions/3.12/lib/python3.12/site-packages (from matplotlib!=3.6.1,>=3.4->seaborn) (4.55.8)\n",
      "Requirement already satisfied: kiwisolver>=1.3.1 in /Library/Frameworks/Python.framework/Versions/3.12/lib/python3.12/site-packages (from matplotlib!=3.6.1,>=3.4->seaborn) (1.4.8)\n",
      "Requirement already satisfied: packaging>=20.0 in /Library/Frameworks/Python.framework/Versions/3.12/lib/python3.12/site-packages (from matplotlib!=3.6.1,>=3.4->seaborn) (24.2)\n",
      "Requirement already satisfied: pillow>=8 in /Library/Frameworks/Python.framework/Versions/3.12/lib/python3.12/site-packages (from matplotlib!=3.6.1,>=3.4->seaborn) (11.1.0)\n",
      "Requirement already satisfied: pyparsing>=2.3.1 in /Library/Frameworks/Python.framework/Versions/3.12/lib/python3.12/site-packages (from matplotlib!=3.6.1,>=3.4->seaborn) (3.2.1)\n",
      "Requirement already satisfied: python-dateutil>=2.7 in /Library/Frameworks/Python.framework/Versions/3.12/lib/python3.12/site-packages (from matplotlib!=3.6.1,>=3.4->seaborn) (2.9.0.post0)\n",
      "Requirement already satisfied: pytz>=2020.1 in /Library/Frameworks/Python.framework/Versions/3.12/lib/python3.12/site-packages (from pandas>=1.2->seaborn) (2025.1)\n",
      "Requirement already satisfied: tzdata>=2022.7 in /Library/Frameworks/Python.framework/Versions/3.12/lib/python3.12/site-packages (from pandas>=1.2->seaborn) (2025.1)\n",
      "Requirement already satisfied: six>=1.5 in /Library/Frameworks/Python.framework/Versions/3.12/lib/python3.12/site-packages (from python-dateutil>=2.7->matplotlib!=3.6.1,>=3.4->seaborn) (1.17.0)\n",
      "\n",
      "\u001b[1m[\u001b[0m\u001b[34;49mnotice\u001b[0m\u001b[1;39;49m]\u001b[0m\u001b[39;49m A new release of pip is available: \u001b[0m\u001b[31;49m25.0\u001b[0m\u001b[39;49m -> \u001b[0m\u001b[32;49m25.2\u001b[0m\n",
      "\u001b[1m[\u001b[0m\u001b[34;49mnotice\u001b[0m\u001b[1;39;49m]\u001b[0m\u001b[39;49m To update, run: \u001b[0m\u001b[32;49mpip install --upgrade pip\u001b[0m\n"
     ]
    }
   ],
   "source": [
    "!pip install seaborn"
   ]
  },
  {
   "cell_type": "code",
   "execution_count": 2,
   "id": "b73781fb",
   "metadata": {},
   "outputs": [],
   "source": [
    "import seaborn as sns\n",
    "import matplotlib.pyplot as plt"
   ]
  },
  {
   "cell_type": "code",
   "execution_count": 39,
   "id": "432290c2",
   "metadata": {},
   "outputs": [
    {
     "name": "stderr",
     "output_type": "stream",
     "text": [
      "5306.69s - pydevd: Sending message related to process being replaced timed-out after 5 seconds\n"
     ]
    },
    {
     "name": "stdout",
     "output_type": "stream",
     "text": [
      "Requirement already satisfied: nltk in /Library/Frameworks/Python.framework/Versions/3.12/lib/python3.12/site-packages (3.9.1)\n",
      "Requirement already satisfied: click in /Library/Frameworks/Python.framework/Versions/3.12/lib/python3.12/site-packages (from nltk) (8.2.1)\n",
      "Requirement already satisfied: joblib in /Library/Frameworks/Python.framework/Versions/3.12/lib/python3.12/site-packages (from nltk) (1.5.2)\n",
      "Requirement already satisfied: regex>=2021.8.3 in /Library/Frameworks/Python.framework/Versions/3.12/lib/python3.12/site-packages (from nltk) (2025.9.1)\n",
      "Requirement already satisfied: tqdm in /Library/Frameworks/Python.framework/Versions/3.12/lib/python3.12/site-packages (from nltk) (4.67.1)\n",
      "\n",
      "\u001b[1m[\u001b[0m\u001b[34;49mnotice\u001b[0m\u001b[1;39;49m]\u001b[0m\u001b[39;49m A new release of pip is available: \u001b[0m\u001b[31;49m25.0\u001b[0m\u001b[39;49m -> \u001b[0m\u001b[32;49m25.2\u001b[0m\n",
      "\u001b[1m[\u001b[0m\u001b[34;49mnotice\u001b[0m\u001b[1;39;49m]\u001b[0m\u001b[39;49m To update, run: \u001b[0m\u001b[32;49mpip install --upgrade pip\u001b[0m\n"
     ]
    }
   ],
   "source": [
    "!pip install nltk"
   ]
  },
  {
   "cell_type": "code",
   "execution_count": 40,
   "id": "82094f27",
   "metadata": {},
   "outputs": [
    {
     "name": "stderr",
     "output_type": "stream",
     "text": [
      "[nltk_data] Error loading stopwords: <urlopen error [SSL:\n",
      "[nltk_data]     CERTIFICATE_VERIFY_FAILED] certificate verify failed:\n",
      "[nltk_data]     unable to get local issuer certificate (_ssl.c:1000)>\n",
      "[nltk_data] Error loading wordnet: <urlopen error [SSL:\n",
      "[nltk_data]     CERTIFICATE_VERIFY_FAILED] certificate verify failed:\n",
      "[nltk_data]     unable to get local issuer certificate (_ssl.c:1000)>\n"
     ]
    },
    {
     "data": {
      "text/plain": [
       "False"
      ]
     },
     "execution_count": 40,
     "metadata": {},
     "output_type": "execute_result"
    }
   ],
   "source": [
    "import nltk\n",
    "nltk.download('stopwords')\n",
    "nltk.download('wordnet')"
   ]
  },
  {
   "cell_type": "markdown",
   "id": "31ce4500",
   "metadata": {},
   "source": [
    "# Descriptive steps"
   ]
  },
  {
   "cell_type": "code",
   "execution_count": null,
   "id": "4350952b",
   "metadata": {},
   "outputs": [
    {
     "ename": "SyntaxError",
     "evalue": "invalid syntax (3289591985.py, line 9)",
     "output_type": "error",
     "traceback": [
      "  \u001b[36mCell\u001b[39m\u001b[36m \u001b[39m\u001b[32mIn[68]\u001b[39m\u001b[32m, line 9\u001b[39m\n\u001b[31m    \u001b[39m\u001b[31minstall ydata_profiling\u001b[39m\n            ^\n\u001b[31mSyntaxError\u001b[39m\u001b[31m:\u001b[39m invalid syntax\n"
     ]
    }
   ],
   "source": [
    "## describe()\n",
    "## info()\n",
    "## head()\n",
    "## shape()\n",
    "## unique()\n",
    "## ydata-profiling >> it extends pandas library with additional EDA capabilities \n",
    "### >> opens up to a mini website with data overview info presented, can look into specific variables\n",
    "from ydata_profiling import ProfileReport\n",
    "profile = ProfileReport(df, title='Pandas Profiling Report', explorative=False)\n",
    "\n",
    "\n"
   ]
  },
  {
   "cell_type": "markdown",
   "id": "4191c90e",
   "metadata": {},
   "source": [
    "# Series, DataFrame\n"
   ]
  },
  {
   "cell_type": "code",
   "execution_count": 3,
   "id": "7e1e0a44",
   "metadata": {},
   "outputs": [
    {
     "name": "stdout",
     "output_type": "stream",
     "text": [
      "0       20\n",
      "1    Hello\n",
      "2     34.5\n",
      "3     True\n",
      "dtype: object\n"
     ]
    }
   ],
   "source": [
    "# Series\n",
    "s = pd.Series([20, \"Hello\", 34.5, True])\n",
    "print(s)"
   ]
  },
  {
   "cell_type": "code",
   "execution_count": null,
   "id": "78249f8e",
   "metadata": {},
   "outputs": [
    {
     "name": "stdout",
     "output_type": "stream",
     "text": [
      "A       20\n",
      "B    Hello\n",
      "C     34.5\n",
      "D     True\n",
      "dtype: object\n"
     ]
    }
   ],
   "source": [
    "## Series can have custom indexes, not just default 0,1,2,...N-1\n",
    "s1 = pd.Series([20, \"Hello\", 34.5, True], index=['A', 'B', 'C', 'D'])\n",
    "print(s1)"
   ]
  },
  {
   "cell_type": "code",
   "execution_count": 5,
   "id": "5318ce17",
   "metadata": {},
   "outputs": [
    {
     "name": "stdout",
     "output_type": "stream",
     "text": [
      "a        1\n",
      "b        2\n",
      "c    Hello\n",
      "dtype: object\n"
     ]
    }
   ],
   "source": [
    "## Series can be created from a dictionary\n",
    "d = {'a': 1, 'b': 2, 'c': \"Hello\"}\n",
    "s2 = pd.Series(d)\n",
    "print(s2)"
   ]
  },
  {
   "cell_type": "code",
   "execution_count": null,
   "id": "147928cf",
   "metadata": {},
   "outputs": [
    {
     "name": "stdout",
     "output_type": "stream",
     "text": [
      "2\n",
      "c\n"
     ]
    }
   ],
   "source": [
    "## get value by index, get index by value\n",
    "print(s2['b'])\n",
    "\n",
    "print(s2[s2 == \"Hello\"].index[0])  # get index by value"
   ]
  },
  {
   "cell_type": "code",
   "execution_count": 9,
   "id": "5df9460b",
   "metadata": {},
   "outputs": [
    {
     "name": "stdout",
     "output_type": "stream",
     "text": [
      "   first  second\n",
      "a      1       3\n",
      "b      2       7\n",
      "c      3       4\n"
     ]
    }
   ],
   "source": [
    "# DataFrame\n",
    "## DataFrame created from a dictionary of Series\n",
    "dict_of_series = {'first': pd.Series([1, 2, 3], index=['a', 'b', 'c']),\n",
    "                  'second': pd.Series([3, 7, 4], index=['a', 'b', 'c'])}\n",
    "df = pd.DataFrame(dict_of_series)\n",
    "print(df)\n"
   ]
  },
  {
   "cell_type": "code",
   "execution_count": 10,
   "id": "53870baf",
   "metadata": {},
   "outputs": [
    {
     "name": "stdout",
     "output_type": "stream",
     "text": [
      "   first  second\n",
      "0      1       3\n",
      "1      2       7\n",
      "2      3       4\n"
     ]
    }
   ],
   "source": [
    "## DataFrame created from a dictionary of lists\n",
    "dict_of_lists = {'first': [1, 2, 3],\n",
    "                 'second': [3, 7, 4]}\n",
    "df2 = pd.DataFrame(dict_of_lists)\n",
    "print(df2)"
   ]
  },
  {
   "cell_type": "markdown",
   "id": "bd418655",
   "metadata": {},
   "source": [
    "df2 created from a dictionary of lists gives out outputs with default indexes (int) that cannot be customized."
   ]
  },
  {
   "cell_type": "code",
   "execution_count": 11,
   "id": "4786c1e6",
   "metadata": {},
   "outputs": [
    {
     "name": "stdout",
     "output_type": "stream",
     "text": [
      "   first  second\n",
      "0      1       3\n",
      "1      2       7\n",
      "2      3       4\n"
     ]
    }
   ],
   "source": [
    "## DataFrame created from a list of dictionaries\n",
    "list_of_dicts = [{'first': 1, 'second': 3},\n",
    "                 {'first': 2, 'second': 7},\n",
    "                 {'first': 3, 'second': 4}]\n",
    "df3 = pd.DataFrame(list_of_dicts)\n",
    "print(df3)\n"
   ]
  },
  {
   "cell_type": "markdown",
   "id": "3af9a05a",
   "metadata": {},
   "source": [
    "df3 from a list of dictionaries means the table developed as if creating a matrix --> lists present in vertical form"
   ]
  },
  {
   "attachments": {
    "comparison_table.png": {
     "image/png": "[encoded data removed]"
    }
   },
   "cell_type": "markdown",
   "id": "4ff9e201",
   "metadata": {},
   "source": [
    "## Comparing list, dict, and pandas series\n",
    "![comparison_table.png](attachment:comparison_table.png)"
   ]
  },
  {
   "cell_type": "markdown",
   "id": "5ae77748",
   "metadata": {},
   "source": [
    "## Method Chaining"
   ]
  },
  {
   "cell_type": "code",
   "execution_count": null,
   "id": "30c6670b",
   "metadata": {},
   "outputs": [],
   "source": [
    "# create a new column within a method chain\n",
    "### assign() >> allows assigning new columns to a dataframe within a method chain\n",
    "\n"
   ]
  },
  {
   "cell_type": "markdown",
   "id": "533eb6ec",
   "metadata": {},
   "source": [
    "# Select rows\n",
    "\n",
    "## 1. select rows by their positions:\n",
    "\n",
    "## 2. select rows according to a criterion:\n",
    "\n",
    "## 3. select rows with query():\n",
    "query() becomes very helpful when using method chaining and there are many logical statements.\n"
   ]
  },
  {
   "cell_type": "markdown",
   "id": "a14d1d2e",
   "metadata": {},
   "source": [
    "# Select specific rows and columns\n",
    "\n",
    "loc[]\n",
    "\n",
    "iloc[]"
   ]
  },
  {
   "cell_type": "markdown",
   "id": "27e2cfbc",
   "metadata": {},
   "source": [
    "# Applying a function over rows/columns >> lambda function\n",
    "apply() >> apply a function along any axis of a dataframe (or along a Series)"
   ]
  },
  {
   "cell_type": "code",
   "execution_count": 3,
   "id": "54b6730c",
   "metadata": {},
   "outputs": [
    {
     "data": {
      "text/html": [
       "<div>\n",
       "<style scoped>\n",
       "    .dataframe tbody tr th:only-of-type {\n",
       "        vertical-align: middle;\n",
       "    }\n",
       "\n",
       "    .dataframe tbody tr th {\n",
       "        vertical-align: top;\n",
       "    }\n",
       "\n",
       "    .dataframe thead th {\n",
       "        text-align: right;\n",
       "    }\n",
       "</style>\n",
       "<table border=\"1\" class=\"dataframe\">\n",
       "  <thead>\n",
       "    <tr style=\"text-align: right;\">\n",
       "      <th></th>\n",
       "      <th>Amy</th>\n",
       "      <th>Ben</th>\n",
       "    </tr>\n",
       "  </thead>\n",
       "  <tbody>\n",
       "    <tr>\n",
       "      <th>0</th>\n",
       "      <td>2</td>\n",
       "      <td>4</td>\n",
       "    </tr>\n",
       "    <tr>\n",
       "      <th>1</th>\n",
       "      <td>2</td>\n",
       "      <td>6</td>\n",
       "    </tr>\n",
       "    <tr>\n",
       "      <th>2</th>\n",
       "      <td>5</td>\n",
       "      <td>4</td>\n",
       "    </tr>\n",
       "  </tbody>\n",
       "</table>\n",
       "</div>"
      ],
      "text/plain": [
       "   Amy  Ben\n",
       "0    2    4\n",
       "1    2    6\n",
       "2    5    4"
      ]
     },
     "execution_count": 3,
     "metadata": {},
     "output_type": "execute_result"
    }
   ],
   "source": [
    "# apply() example\n",
    "df = pd.DataFrame(np.random.randint(1, 7, size=(3, 2)), columns=['Amy', 'Ben'])\n",
    "df"
   ]
  },
  {
   "cell_type": "markdown",
   "id": "a1090178",
   "metadata": {},
   "source": [
    "How to compute the difference between the minimum and maximum number for each person?"
   ]
  },
  {
   "cell_type": "code",
   "execution_count": 4,
   "id": "201e8bf1",
   "metadata": {},
   "outputs": [
    {
     "name": "stdout",
     "output_type": "stream",
     "text": [
      "Amy    3\n",
      "Ben    2\n",
      "dtype: int64\n",
      "Amy    3\n",
      "Ben    2\n",
      "dtype: int64\n",
      "10\n"
     ]
    },
    {
     "data": {
      "text/plain": [
       "Amy    3.000000\n",
       "Ben    4.666667\n",
       "dtype: float64"
      ]
     },
     "execution_count": 4,
     "metadata": {},
     "output_type": "execute_result"
    }
   ],
   "source": [
    "min_df = df.min()\n",
    "max_df = df.max()\n",
    "max_minus_min = max_df - min_df\n",
    "print(max_minus_min)\n",
    "\n",
    "# a function for df as a whole (an inline function: don't need to define a new name by using lambda x)\n",
    "print(df.apply(lambda x: x.max() - x.min()))  ## apply a lambda function\n",
    "\n",
    "## lambda arguments: expression\n",
    "### e.g.\n",
    "double = lambda x: x * 2\n",
    "print(double(5))\n",
    "\n",
    "## other common functions: sum, mean, etc.\n",
    "df.apply(lambda x: x.sum())\n",
    "df.apply(lambda x: x.mean())\n",
    "\n"
   ]
  },
  {
   "cell_type": "markdown",
   "id": "2f11ed19",
   "metadata": {},
   "source": [
    "## map() >> element-wise function application\n",
    "map() applies a function to each element of the dataframe."
   ]
  },
  {
   "cell_type": "code",
   "execution_count": 75,
   "id": "09f72745",
   "metadata": {},
   "outputs": [
    {
     "name": "stdout",
     "output_type": "stream",
     "text": [
      "   Amy  Ben\n",
      "0    1   36\n",
      "1   16    4\n",
      "2   25   25\n"
     ]
    }
   ],
   "source": [
    "# map() example\n",
    "df\n",
    "print(df.map(lambda x: x ** 2))  ## map a lambda function"
   ]
  },
  {
   "cell_type": "markdown",
   "id": "96cbc4d2",
   "metadata": {},
   "source": [
    "## Rename() columns\n",
    "\n",
    "## Drop() rows/columns"
   ]
  },
  {
   "cell_type": "markdown",
   "id": "3e323284",
   "metadata": {},
   "source": [
    "# drop duplicates"
   ]
  },
  {
   "cell_type": "code",
   "execution_count": null,
   "id": "d8777522",
   "metadata": {},
   "outputs": [],
   "source": [
    "# e.g.astronauts data\n",
    "remove_duplicate_astronauts = astronauts.drop_duplicates(subset=['name', 'gender', 'birth', 'nationality'], keep='first') # keep info on their first mission\n",
    "remove_duplicate_astronauts.head()\n",
    "## keep='first' >> keep the first occurrence\n",
    "## keep='last' >> keep the last occurrence\n",
    "## keep=False >> drop all duplicates\n",
    "## drop_duplicates() >> drop duplicate rows\n",
    "### why still need keep='first' when we already drop duplicates? because there are still duplicate rows after dropping duplicates based on subset of columns"
   ]
  },
  {
   "cell_type": "markdown",
   "id": "52fa5182",
   "metadata": {},
   "source": [
    "# Summarise data"
   ]
  },
  {
   "cell_type": "markdown",
   "id": "23303166",
   "metadata": {},
   "source": [
    "## groupby"
   ]
  },
  {
   "cell_type": "markdown",
   "id": "2bcf2d7f",
   "metadata": {},
   "source": [
    "## 1. aggregate() or agg()\n",
    "computes a summary statistic for each group"
   ]
  },
  {
   "cell_type": "markdown",
   "id": "e8cabf84",
   "metadata": {},
   "source": [
    "### other aggregation statistics\n",
    "median(), quantile()\n",
    "mode()\n",
    "count()\n",
    "min(), max()\n",
    "var(), std()\n",
    "sum(),\n",
    "cumsum(), cummax(), cummin() track summary statistics over rows\n",
    "value_counts() a convenient shortcut to count the number of records in each group"
   ]
  },
  {
   "cell_type": "code",
   "execution_count": null,
   "id": "9759dde8",
   "metadata": {},
   "outputs": [],
   "source": [
    "# "
   ]
  },
  {
   "cell_type": "markdown",
   "id": "97dc60d7",
   "metadata": {},
   "source": [
    "## 2. transform()\n",
    "performs some group-specific computations and returns an object of the same length, so the new dataframe contains the same length as the original one while with some transformations\n",
    "e.g. fill NAs with group mean, standarize score within a group \n",
    "Q: what would be the lambda function we need for the z-score?"
   ]
  },
  {
   "cell_type": "code",
   "execution_count": null,
   "id": "3022efd0",
   "metadata": {},
   "outputs": [],
   "source": []
  },
  {
   "cell_type": "markdown",
   "id": "92871bc7",
   "metadata": {},
   "source": [
    "# Indexes\n",
    "\n",
    "## reset the index\n",
    "reset_index()\n",
    "\n",
    "## set an index\n",
    "set_index() ##the reverse of reset"
   ]
  },
  {
   "cell_type": "markdown",
   "id": "97126e07",
   "metadata": {},
   "source": [
    "# Sorting the data\n",
    "df.sort_values(by=column(s), ascending=False)\n",
    "\n",
    "e.g. Q: who were the 3 oldest astronauts?\n",
    "\n",
    "nlargest()\n",
    "nsmallest()\n",
    "\n",
    "astronauts.nlargest(3, 'age_at_mission', keep='all') ##keep='all' might lead to output with more than3 rows if top 3 largest have more than 3 rows (e.g. in column 'age_at_mission', 71 is the 3rd largest, but has 2 rows that contain 71 --> final output = 4 rows)\n",
    "\n",
    "## add a rank column\n"
   ]
  },
  {
   "cell_type": "markdown",
   "id": "e2803c2a",
   "metadata": {},
   "source": [
    "# Work with missing data\n",
    "## how to find rows with missing?\n",
    "isna()\n",
    "\n",
    "e.g. astronauts data\n",
    "row_with_na = astronauts[astronauts.isna().any(axis=1)] ##any() here\n",
    "row_with_na\n",
    "\n",
    "## fill missing values\n",
    "fillna()\n",
    "e.g. fillna(unknown) ##so na cells now filled with word 'unknown'\n",
    "\n",
    "## drop rows/columns with missing values\n",
    "dropna()\n",
    "--> df.dropna()\n",
    "\n",
    "Then check using df.shape()\n",
    "\n",
    "## missingno: a useful extension to visualize missingness"
   ]
  },
  {
   "cell_type": "code",
   "execution_count": null,
   "id": "7cf51205",
   "metadata": {},
   "outputs": [],
   "source": [
    "# missingno example\n",
    "%matplotlib inline\n",
    "import missingno as msno\n",
    "\n",
    "astronauts_missing = astronauts.copy()\n",
    "for col in astronauts_missing.columns:\n",
    "    astronauts_missing.loc[astronauts_missing.sample(frac=0.1).index, col] = np.nan\n",
    "\n",
    "# Visualize missing values as a matrix \n",
    "msno.matrix(astronauts_missing)"
   ]
  },
  {
   "cell_type": "markdown",
   "id": "188de0b1",
   "metadata": {},
   "source": [
    "## Visualize the correlation between the number of missing values in different columns as a heatmap\n",
    "msno.heatmap(astronauts_missing) "
   ]
  },
  {
   "cell_type": "markdown",
   "id": "9269a92d",
   "metadata": {},
   "source": [
    "# Reshaping\n",
    "Oftentimes, you will need to change the format of a dataset.\n",
    "\n",
    "melt(): wide to long\n",
    "pivot(): long to wide\n",
    "\n",
    "## melt()\n",
    "\n",
    "## pivot()"
   ]
  },
  {
   "cell_type": "markdown",
   "id": "8e5b3ddf",
   "metadata": {},
   "source": [
    "# apply() vs transform()"
   ]
  },
  {
   "cell_type": "markdown",
   "id": "a9c1ef82",
   "metadata": {},
   "source": [
    "# Merge dataframe\n",
    "## concat() \n",
    "### row-wise concat()\n",
    "\n",
    "### column-wise concat()\n",
    "\n",
    "\n",
    "## merge() --> join\n",
    "Left, right, inner, outer joins\n",
    "\n"
   ]
  },
  {
   "cell_type": "code",
   "execution_count": 41,
   "id": "48a687c7",
   "metadata": {},
   "outputs": [
    {
     "name": "stdout",
     "output_type": "stream",
     "text": [
      "just right\n"
     ]
    }
   ],
   "source": [
    "x = 3\n",
    "if x > 3:\n",
    "    print(\"large\")\n",
    "elif x == 3:\n",
    "    print(\"just right\")\n",
    "else:\n",
    "    print(\"small\")"
   ]
  },
  {
   "cell_type": "markdown",
   "id": "ab6090eb",
   "metadata": {},
   "source": [
    "## Lists, Set"
   ]
  },
  {
   "cell_type": "code",
   "execution_count": 42,
   "id": "a93343b1",
   "metadata": {},
   "outputs": [
    {
     "name": "stdout",
     "output_type": "stream",
     "text": [
      "set()\n"
     ]
    }
   ],
   "source": [
    "# lists\n",
    "# set\n",
    "\n",
    "my_set = set()\n",
    "print(my_set)"
   ]
  },
  {
   "cell_type": "code",
   "execution_count": 43,
   "id": "168fba7e",
   "metadata": {},
   "outputs": [
    {
     "name": "stdout",
     "output_type": "stream",
     "text": [
      "{'tuesday', 'Monday', 'monday'}\n"
     ]
    }
   ],
   "source": [
    "my_set.add(\"monday\")\n",
    "my_set.add(\"tuesday\")\n",
    "my_set.add(\"Monday\")\n",
    "my_set.add(\"monday\")  # Duplicate, will not be added again, only gonna show up once\n",
    "print(my_set)"
   ]
  },
  {
   "cell_type": "code",
   "execution_count": 44,
   "id": "6e83c3ca",
   "metadata": {},
   "outputs": [
    {
     "data": {
      "text/plain": [
       "False"
      ]
     },
     "execution_count": 44,
     "metadata": {},
     "output_type": "execute_result"
    }
   ],
   "source": [
    "\"monday\" == \"Monday\"  # Case sensitive >> Tell you if True/False"
   ]
  },
  {
   "cell_type": "code",
   "execution_count": 45,
   "id": "a0299674",
   "metadata": {},
   "outputs": [
    {
     "name": "stdout",
     "output_type": "stream",
     "text": [
      "{'vegetarian', 'fish', 'nyc', '20-24'}\n",
      "{'55+', 'fish', 'nyc', 'carnivore'}\n"
     ]
    }
   ],
   "source": [
    "## now wants to create more complex sets, comparison between two sets\n",
    "set_a = set()\n",
    "set_a.add(\"20-24\")\n",
    "set_a.add(\"nyc\")\n",
    "set_a.add(\"fish\")\n",
    "set_a.add(\"vegetarian\")\n",
    "\n",
    "set_b = set()\n",
    "set_b.add(\"55+\")\n",
    "set_b.add(\"nyc\")\n",
    "set_b.add(\"fish\")\n",
    "set_b.add(\"carnivore\")\n",
    "\n",
    "print(set_a)\n",
    "print(set_b)"
   ]
  },
  {
   "cell_type": "code",
   "execution_count": 46,
   "id": "1f76e2bf",
   "metadata": {},
   "outputs": [
    {
     "name": "stdout",
     "output_type": "stream",
     "text": [
      "{'fish', 'nyc'}\n"
     ]
    }
   ],
   "source": [
    "## Try searching for python logic set operation >> form Venn diagram, etc.\n",
    "## what do these sets share between each --> intersection\n",
    "the_int = set_a.intersection(set_b)  #order does not matter\n",
    "print(the_int)"
   ]
  },
  {
   "cell_type": "code",
   "execution_count": 47,
   "id": "1b6675d0",
   "metadata": {},
   "outputs": [
    {
     "name": "stdout",
     "output_type": "stream",
     "text": [
      "{'fish', 'carnivore', '20-24', '55+', 'nyc', 'vegetarian'}\n"
     ]
    }
   ],
   "source": [
    "## what are ALL the attributes between the two sets --> union\n",
    "the_union = set_a.union(set_b)\n",
    "print(the_union)"
   ]
  },
  {
   "cell_type": "code",
   "execution_count": 48,
   "id": "0623b1ca",
   "metadata": {},
   "outputs": [
    {
     "name": "stdout",
     "output_type": "stream",
     "text": [
      "{'20-24', 'vegetarian'}\n",
      "{'55+', 'carnivore'}\n"
     ]
    }
   ],
   "source": [
    "## what is unique to each set --> difference\n",
    "the_diff_a = set_a.difference(set_b)\n",
    "the_diff_b = set_b.difference(set_a)\n",
    "print(the_diff_a)\n",
    "print(the_diff_b)"
   ]
  },
  {
   "cell_type": "code",
   "execution_count": 3,
   "id": "2df6e652",
   "metadata": {},
   "outputs": [
    {
     "name": "stdout",
     "output_type": "stream",
     "text": [
      "[3, 2, 1, 4, 2, 3]\n"
     ]
    }
   ],
   "source": [
    "## confused with set and list\n",
    "my_list = [3, 2, 1, 4, 2, 3]\n",
    "print(my_list)"
   ]
  },
  {
   "cell_type": "code",
   "execution_count": 4,
   "id": "820fde5a",
   "metadata": {},
   "outputs": [
    {
     "name": "stdout",
     "output_type": "stream",
     "text": [
      "{1, 2, 3, 4}\n"
     ]
    }
   ],
   "source": [
    "my_new_set = set(my_list)  # convert list to set\n",
    "print(my_new_set)  # set will remove duplicates and be unordered"
   ]
  },
  {
   "cell_type": "code",
   "execution_count": null,
   "id": "2abed369",
   "metadata": {},
   "outputs": [
    {
     "data": {
      "text/plain": [
       "[1, 2, 3, 4]"
      ]
     },
     "execution_count": 5,
     "metadata": {},
     "output_type": "execute_result"
    }
   ],
   "source": [
    "list(my_new_set)  # convert set back to list, but order is still not guaranteed >> now result is included by [] "
   ]
  },
  {
   "cell_type": "code",
   "execution_count": 8,
   "id": "39a08577",
   "metadata": {},
   "outputs": [
    {
     "name": "stdout",
     "output_type": "stream",
     "text": [
      "{3: None, 2: None, 1: None, 4: None}\n"
     ]
    },
    {
     "data": {
      "text/plain": [
       "[3, 2, 1, 4]"
      ]
     },
     "execution_count": 8,
     "metadata": {},
     "output_type": "execute_result"
    }
   ],
   "source": [
    "my_new_set_withorder = dict.fromkeys(my_list)  # another way to convert list to set while keeping the order\n",
    "print(my_new_set_withorder)\n",
    "\n",
    "list(my_new_set_withorder)  # convert back to list while keeping the order"
   ]
  },
  {
   "cell_type": "markdown",
   "id": "d0f2db2f",
   "metadata": {},
   "source": [
    "set会去重且无序\n",
    "先从创造list开始 >> 只需要[]，不用别的\n",
    "把list变成set：set(listname)\n",
    "把set变回成list：list(setname)\n",
    "\n",
    "可以通过dict.fromkeys(listname)让这个新建的dictionary保持原list的顺序，但是去重，\n",
    "这个需要最终回到list来确保只取数字（keys）而不含None（values）\n"
   ]
  },
  {
   "cell_type": "markdown",
   "id": "d8db58bc",
   "metadata": {},
   "source": [
    "## Function"
   ]
  },
  {
   "cell_type": "code",
   "execution_count": 49,
   "id": "0121d2fe",
   "metadata": {},
   "outputs": [],
   "source": [
    "# Function\n",
    "## Definition - reusable block of code\n",
    "## e.g.1\n",
    "def hello_world():\n",
    "    print(\"Hello World!\")"
   ]
  },
  {
   "cell_type": "code",
   "execution_count": 50,
   "id": "9a34cdda",
   "metadata": {},
   "outputs": [
    {
     "name": "stdout",
     "output_type": "stream",
     "text": [
      "Hello World!\n"
     ]
    }
   ],
   "source": [
    "hello_world()"
   ]
  },
  {
   "cell_type": "code",
   "execution_count": 51,
   "id": "e6b47d0a",
   "metadata": {},
   "outputs": [],
   "source": [
    "## e.g.2\n",
    "def str_cat(a_in, b_in):\n",
    "    tmp = a_in + b_in\n",
    "    return tmp"
   ]
  },
  {
   "cell_type": "code",
   "execution_count": 52,
   "id": "371fe40d",
   "metadata": {},
   "outputs": [
    {
     "name": "stdout",
     "output_type": "stream",
     "text": [
      "6\n",
      "qmss\n"
     ]
    }
   ],
   "source": [
    "print (str_cat(1, 5))  # 1 is a_in, 5 is b_in, output = 1 + 5 = 6\n",
    "print (str_cat(\"qm\", \"ss\"))  # \"qm\" is a_in, \"ss\" is b_in, output = \"qm\" + \"ss\" = \"qmss\""
   ]
  },
  {
   "cell_type": "code",
   "execution_count": 53,
   "id": "8f1ebb39",
   "metadata": {},
   "outputs": [
    {
     "name": "stdout",
     "output_type": "stream",
     "text": [
      "['its', 'monday', 'night', 'and', 'its', 'nice', 'outside']\n",
      "['its monday night', 'and its nice outside']\n"
     ]
    }
   ],
   "source": [
    "str_a = \"its monday night and its nice outside\"\n",
    "\n",
    "# tokenization\n",
    "t_ex = str_a.split(\" \") #defaults split on a space >> split(\" \")\n",
    "print(t_ex)\n",
    "\n",
    "# \",\" split the string at every comma >> split(\",\")\n",
    "str_b = \"its monday night,and its nice outside\"\n",
    "t_ex2 = str_b.split(\",\")\n",
    "print(t_ex2)"
   ]
  },
  {
   "cell_type": "code",
   "execution_count": 54,
   "id": "da7e2690",
   "metadata": {},
   "outputs": [
    {
     "data": {
      "text/plain": [
       "7"
      ]
     },
     "execution_count": 54,
     "metadata": {},
     "output_type": "execute_result"
    }
   ],
   "source": [
    "len(t_ex)  # length of the list"
   ]
  },
  {
   "cell_type": "code",
   "execution_count": 55,
   "id": "5eb7f558",
   "metadata": {},
   "outputs": [
    {
     "name": "stdout",
     "output_type": "stream",
     "text": [
      "0.2222222222222222\n"
     ]
    }
   ],
   "source": [
    "# jaccardian measure --> similarity between two sets = len(intersection) / len(union)\n",
    "str_c = \"the politician gave a great speech\"\n",
    "str_d = \"the politician spoke to the crowd\"\n",
    "\n",
    "j = len(set(str_c.split(\" \")).intersection(set(str_d.split(\" \")))) / len(set(str_c.split(\" \")).union(set(str_d.split(\" \"))))\n",
    "print(j)"
   ]
  },
  {
   "cell_type": "code",
   "execution_count": 56,
   "id": "252e8c09",
   "metadata": {},
   "outputs": [
    {
     "name": "stdout",
     "output_type": "stream",
     "text": [
      "{'sat', 'on', 'the'}\n",
      "{'mat', 'log', 'sat', 'cat', 'on', 'dog', 'the'}\n",
      "0.42857142857142855\n"
     ]
    }
   ],
   "source": [
    "## jaccardian measure exercise\n",
    "## jm = len(intersection) / len(union) range(0,1)\n",
    "## create a function called jm which takes in two strings and outputs the len(intersection) / len(union)\n",
    "\n",
    "str1 = \"the cat sat on the mat\"\n",
    "str2 = \"the dog sat on the log\"\n",
    "\n",
    "## intersection\n",
    "the_int_jm = set(str1.split(\" \")).intersection(set(str2.split(\" \")))\n",
    "print(the_int_jm)\n",
    "\n",
    "## union\n",
    "the_union_jm = set(str1.split(\" \")).union(set(str2.split(\" \")))\n",
    "print(the_union_jm)\n",
    "\n",
    "## jaccardian measure\n",
    "jm = len(the_int_jm) / len(the_union_jm)\n",
    "print(jm)"
   ]
  },
  {
   "cell_type": "code",
   "execution_count": 57,
   "id": "3f71ac6f",
   "metadata": {},
   "outputs": [
    {
     "name": "stdout",
     "output_type": "stream",
     "text": [
      "0.42857142857142855\n"
     ]
    }
   ],
   "source": [
    "## form a function that can be resused for jm\n",
    "def j(str_a, str_b):\n",
    "    the_int = set(str_a.split(\" \")).intersection(set(str_b.split(\" \")))\n",
    "    the_union = set(str_a.split(\" \")).union(set(str_b.split(\" \")))\n",
    "    j = len(the_int) / len(the_union)\n",
    "    return j\n",
    "\n",
    "print(j(str1, str2))"
   ]
  },
  {
   "cell_type": "code",
   "execution_count": 9,
   "id": "cf05efb5",
   "metadata": {},
   "outputs": [
    {
     "name": "stdout",
     "output_type": "stream",
     "text": [
      "0.47058823529411764\n"
     ]
    }
   ],
   "source": [
    "def j(str_a, str_b):\n",
    "    str_a_i = str_a.split()\n",
    "    str_a_i_set = set(str_a)\n",
    "    str_b_i = str_b.split()\n",
    "    str_b_i_set = set(str_b)\n",
    "    the_i = str_a_i_set.intersection(str_b_i_set)\n",
    "    the_u = str_a_i_set.union(str_b_i_set)\n",
    "    j_str = len(the_i)/len(the_u)\n",
    "    return j_str\n",
    "\n",
    "ex = j(\"the cat jumped over the bed\",\n",
    "       \"the dog chased the cat\")\n",
    "print (ex)\n"
   ]
  },
  {
   "cell_type": "code",
   "execution_count": 58,
   "id": "96b913c7",
   "metadata": {},
   "outputs": [
    {
     "data": {
      "text/plain": [
       "1.0"
      ]
     },
     "execution_count": 58,
     "metadata": {},
     "output_type": "execute_result"
    }
   ],
   "source": [
    "j(\"a b c\", \"a b c\")"
   ]
  },
  {
   "cell_type": "code",
   "execution_count": 59,
   "id": "cb3150f1",
   "metadata": {},
   "outputs": [
    {
     "data": {
      "text/plain": [
       "0.5"
      ]
     },
     "execution_count": 59,
     "metadata": {},
     "output_type": "execute_result"
    }
   ],
   "source": [
    "j(\"a b c\", \"a b d\")"
   ]
  },
  {
   "cell_type": "markdown",
   "id": "471894d6",
   "metadata": {},
   "source": [
    "## Dictionary"
   ]
  },
  {
   "cell_type": "code",
   "execution_count": 60,
   "id": "a6aee3ca",
   "metadata": {},
   "outputs": [
    {
     "name": "stdout",
     "output_type": "stream",
     "text": [
      "{'Germany': 30, 'Britain': 40, 'India': 64, 'Japan': 23}\n",
      "40\n",
      "dict_keys(['Germany', 'Britain', 'India', 'Japan'])\n",
      "{'Germany': 30, 'Britain': 40, 'India': 64, 'Japan': 23, 'China': 55}\n",
      "{'Germany': 30, 'Britain': 40, 'India': 64, 'Japan': 23, 'China': 70}\n",
      "{'Germany': 30, 'Britain': 40, 'India': 64, 'Japan': 23}\n"
     ]
    }
   ],
   "source": [
    "# Dictionary (better than lists, can connect rows without using an index)\n",
    "## Create a dictionary (keys & values)\n",
    "cars = {\"Germany\": 30,\n",
    "        \"Britain\": 40,\n",
    "        \"India\": 64,\n",
    "        \"Japan\": 23}\n",
    "\n",
    "print(cars)\n",
    "\n",
    "## Find the value that belongs to key \"Britain\"\n",
    "print(cars[\"Britain\"])\n",
    "\n",
    "## Print all keys of the dataset >> keys()\n",
    "print(cars.keys())\n",
    "\n",
    "## Add data to existing dictionary\n",
    "cars[\"China\"] = 55\n",
    "print(cars)\n",
    "\n",
    "## Check if \"China\" has been added (results in True/False)\n",
    "\"China\" in cars\n",
    "\n",
    "## Change values (e.g. change value of \"China\" to 70)\n",
    "cars[\"China\"] = 70\n",
    "print(cars)\n",
    "\n",
    "## Remove data\n",
    "del(cars[\"China\"])\n",
    "print(cars)"
   ]
  },
  {
   "cell_type": "code",
   "execution_count": 61,
   "id": "fb9b6ee0",
   "metadata": {},
   "outputs": [],
   "source": [
    "the_dictionary = dict()  # contain key: value \n",
    "the_dictionary[\"key_a\"] = 1\n",
    "the_dictionary[\"key_b\"] = [1, 2, 4]\n",
    "the_dictionary[\"key_c\"] = {\"all\": \"whatever\"}\n",
    "the_dictionary[\"key_d\"] = {\"a\": 1, \"b\": 4}\n",
    "the_dictionary[\"key_e\"] = \"qmss class\""
   ]
  },
  {
   "cell_type": "code",
   "execution_count": 62,
   "id": "d7529121",
   "metadata": {},
   "outputs": [
    {
     "data": {
      "text/plain": [
       "{'key_a': 1,\n",
       " 'key_b': [1, 2, 4],\n",
       " 'key_c': {'all': 'whatever'},\n",
       " 'key_d': {'a': 1, 'b': 4},\n",
       " 'key_e': 'qmss class'}"
      ]
     },
     "execution_count": 62,
     "metadata": {},
     "output_type": "execute_result"
    }
   ],
   "source": [
    "the_dictionary"
   ]
  },
  {
   "cell_type": "code",
   "execution_count": 63,
   "id": "1a07672e",
   "metadata": {},
   "outputs": [
    {
     "name": "stdout",
     "output_type": "stream",
     "text": [
      "['key_a', 'key_b', 'key_c', 'key_d', 'key_e']\n",
      "[1, [1, 2, 4], {'all': 'whatever'}, {'a': 1, 'b': 4}, 'qmss class']\n"
     ]
    }
   ],
   "source": [
    "## show keys\n",
    "the_keys = list(the_dictionary.keys())\n",
    "print(the_keys)\n",
    "\n",
    "## show values\n",
    "the_values = list(the_dictionary.values())\n",
    "print(the_values)"
   ]
  },
  {
   "cell_type": "code",
   "execution_count": 64,
   "id": "393b5034",
   "metadata": {},
   "outputs": [
    {
     "name": "stdout",
     "output_type": "stream",
     "text": [
      "nope\n"
     ]
    }
   ],
   "source": [
    "# if statements\n",
    "if 1 == 2:\n",
    "    print(\"yeah\")\n",
    "else:\n",
    "    print(\"nope\")"
   ]
  },
  {
   "cell_type": "code",
   "execution_count": null,
   "id": "95f99944",
   "metadata": {},
   "outputs": [],
   "source": [
    "if 1 == 2:\n",
    "    print(\"yeah\")\n",
    "elif 3 == 3:\n",
    "    print(\"monday\") ## can have multiple elif, if any of the elif is true, exit the if statement\n",
    "else:\n",
    "    print(\"nope\")"
   ]
  },
  {
   "cell_type": "code",
   "execution_count": 65,
   "id": "5118ce6d",
   "metadata": {},
   "outputs": [],
   "source": [
    "# while loops\n"
   ]
  },
  {
   "cell_type": "code",
   "execution_count": null,
   "id": "d65a1c3e",
   "metadata": {},
   "outputs": [
    {
     "name": "stdout",
     "output_type": "stream",
     "text": [
      "['the', 'wild', 'brown', 'trout', 'refuses', 'to', 'jump', 'over', 'the', 'lazy', 'dog']\n"
     ]
    }
   ],
   "source": [
    "# for loop \n",
    "t_corpus = \"the wild brown trout refuses to jump over the lazy dog\"\n",
    "t_token = t_corpus.split(\" \")\n",
    "print (t_token)\n",
    "## 先把都是strings的这句话用split()给拆成单词"
   ]
  },
  {
   "cell_type": "code",
   "execution_count": null,
   "id": "382188f8",
   "metadata": {},
   "outputs": [
    {
     "name": "stdout",
     "output_type": "stream",
     "text": [
      "['the', 'to', 'the', 'dog']\n"
     ]
    }
   ],
   "source": [
    "t_list = list()  # create an empty list to store the results\n",
    "for word in t_token:\n",
    "    if len(word) < 4:\n",
    "        t_list.append(word)  # add the word to the list if its length is less than 4\n",
    "print(t_list)\n",
    "## 拆成单独单词之后在这里使用，得到添加各种条件后的结果，这里是list"
   ]
  },
  {
   "cell_type": "code",
   "execution_count": null,
   "id": "83fe11d2",
   "metadata": {},
   "outputs": [],
   "source": [
    "# list comprehension\n",
    "## 另一种写法，更简洁\n",
    "t_list_new = [word for word in t_token if len(word) < 4]\n",
    "print(t_list_new)\n",
    "## 为什么要用word for word in t_token，而不直接for word in t_token? \n",
    "## 因为t_token是一个list, 直接for word in t_token会报错\n",
    "## 而word for word in t_token是一个list comprehension, 可以直接生成一个新的list"
   ]
  },
  {
   "cell_type": "code",
   "execution_count": 14,
   "id": "51a662fa",
   "metadata": {},
   "outputs": [
    {
     "name": "stdout",
     "output_type": "stream",
     "text": [
      "{'lazy': 4, 'brown': 5, 'to': 2, 'jump': 4, 'trout': 5, 'over': 4, 'wild': 4, 'dog': 3, 'refuses': 7, 'the': 3}\n"
     ]
    }
   ],
   "source": [
    "t_token_s = set(t_token)  # convert list to set to remove duplicates\n",
    "d_ex = dict()\n",
    "for word in t_token_s:\n",
    "    d_ex[word] = len(word)  # key is the word, value is the length of the word\n",
    "print(d_ex)"
   ]
  },
  {
   "cell_type": "code",
   "execution_count": 17,
   "id": "6c032434",
   "metadata": {},
   "outputs": [
    {
     "name": "stdout",
     "output_type": "stream",
     "text": [
      "{'stocked': 1, 'brown': 1, 'refused': 1, 'but': 1, 'ate': 1, 'my': 2, 'trout': 2, 'brouwn': 1, 'wild': 1, 'mayfly': 2, 'the': 2}\n"
     ]
    }
   ],
   "source": [
    "## dictionary exercise\n",
    "t_corpus = \"the wild brown trout refused my mayfly but the stocked brouwn trout ate my mayfly\"\n",
    "## how many an unique word show up in the corpus\n",
    "## create a function called word_fun that outputs a dictionary where every key is a unique token\n",
    "## and the value is the number of times that token shows up in the corpus\n",
    "\n",
    "def word_fun(t_corpus):\n",
    "    t_token = t_corpus.split(\" \")\n",
    "    the_dict = dict()\n",
    "    for word in set(t_token):\n",
    "        the_dict[word] = t_token.count(word)  # count how many times the word shows up in the corpus\n",
    "    return the_dict\n",
    "\n",
    "print(word_fun(t_corpus))"
   ]
  },
  {
   "cell_type": "code",
   "execution_count": null,
   "id": "0d147688",
   "metadata": {},
   "outputs": [],
   "source": [
    "# dictionary comprehension\n"
   ]
  },
  {
   "cell_type": "code",
   "execution_count": null,
   "id": "a5b31031",
   "metadata": {},
   "outputs": [],
   "source": []
  },
  {
   "cell_type": "code",
   "execution_count": null,
   "id": "c8e61058",
   "metadata": {},
   "outputs": [],
   "source": []
  },
  {
   "cell_type": "code",
   "execution_count": null,
   "id": "e06c204d",
   "metadata": {},
   "outputs": [],
   "source": [
    "\n"
   ]
  },
  {
   "cell_type": "code",
   "execution_count": 17,
   "id": "482d52af",
   "metadata": {},
   "outputs": [],
   "source": [
    "# NumPy Array"
   ]
  },
  {
   "cell_type": "code",
   "execution_count": null,
   "id": "d4c9a10d",
   "metadata": {},
   "outputs": [
    {
     "name": "stdout",
     "output_type": "stream",
     "text": [
      "              Food\n",
      "cho      chocolate\n",
      "fri  Fried_chicken\n",
      "let        lettuce\n",
      "noo         noodle\n",
      "cho        chocolate\n",
      "fri    Fried_chicken\n",
      "let          lettuce\n",
      "noo           noodle\n",
      "Name: Food, dtype: object\n",
      "              Food  Price\n",
      "cho      chocolate     10\n",
      "fri  Fried_chicken     15\n",
      "let        lettuce      4\n",
      "noo         noodle      2\n",
      "              Food  Count  Price\n",
      "cho      chocolate      3     10\n",
      "fri  Fried_chicken      5     15\n",
      "              Food  Count  Price\n",
      "cho      chocolate      3     10\n",
      "fri  Fried_chicken      5     15\n",
      "              Food  Count  Price\n",
      "fri  Fried_chicken      5     15\n",
      "let        lettuce      1      4\n"
     ]
    }
   ],
   "source": [
    "# Pandas Package\n",
    "import pandas as pd\n",
    "\n",
    "# this is how we do pd dataframe if there is a created dictionary (not in the form of a table that is ready to use)\n",
    "food = {\"chocolate\": (3, 10), \"Fried_chicken\": (5, 15), \"lettuce\": (1, 4), \"noodle\": (3, 2)}\n",
    "food_df = pd.DataFrame([(k, v[0], v[1]) for k, v in food.items()],\n",
    "columns=[\"Food\", \"Count\", \"Price\"])\n",
    "\n",
    "## Change row labels for food_df\n",
    "row_labels = [\"cho\", \"fri\", \"let\", \"noo\"]\n",
    "food_df.index = row_labels\n",
    "\n",
    "## Column Access\n",
    "print(food_df[[\"Food\"]])    # double brackets to keep the dataframe format (get the Food column name)\n",
    "print(food_df[\"Food\"])\n",
    "print(food_df[[\"Food\", \"Price\"]])\n",
    "\n",
    "## Row Access by loc/iloc\n",
    "print(food_df.loc[[\"cho\", \"fri\"]])\n",
    "print(food_df.iloc[[0, 1]])\n",
    "\n",
    "## Row Access by slicing\n",
    "print(food_df[1:3])"
   ]
  },
  {
   "cell_type": "code",
   "execution_count": null,
   "id": "d9b03b31",
   "metadata": {},
   "outputs": [],
   "source": [
    "# comparison operators, boolean operators, logical operators\n",
    "# comparison operators: >, <, >=, <=, ==, !=\n",
    "# boolean operators: and, or, not\n",
    "# logical operators: &, |, ~\n",
    "\n",
    "# example\n",
    "\n",
    "## These boolean operators cannot be used in NumPy dataframe (on an array with more than 1 element)\n",
    "## Use logical_and()\n",
    "print((food_df[\"Count\"] > 2) & (food_df[\"Price\"] < 10))\n",
    "print((logical_or(food_df[\"Count\"] > 2) | (food_df[\"Price\"] < 10)))\n",
    "print(logical_not(food_df[\"Count\"] > 2))"
   ]
  },
  {
   "cell_type": "code",
   "execution_count": null,
   "id": "be2617c6",
   "metadata": {},
   "outputs": [],
   "source": [
    "# if, elif, else statements\n",
    "# if condition:\n",
    "#     expression"
   ]
  },
  {
   "cell_type": "code",
   "execution_count": null,
   "id": "6b5eb401",
   "metadata": {},
   "outputs": [],
   "source": [
    "# For loops\n",
    "# for item in list:\n",
    "#     expression\n",
    "\n",
    "# Pandas Package\n"
   ]
  },
  {
   "cell_type": "code",
   "execution_count": null,
   "id": "64b848e3",
   "metadata": {},
   "outputs": [],
   "source": [
    "# random walk\n",
    "\n",
    "## e.g.\n",
    "# NumPy is imported, seed is set\n",
    "\n",
    "# Initialize random_walk\n",
    "random_walk = [0]\n",
    "\n",
    "# Complete the ___\n",
    "for x in range(100) :\n",
    "    # Set step: last element in random_walk\n",
    "    step = random_walk[-1]\n",
    "\n",
    "    # Roll the dice\n",
    "    dice = np.random.randint(1,7)\n",
    "\n",
    "    # Determine next step\n",
    "    if dice <= 2:\n",
    "        step = step - 1\n",
    "    elif dice <= 5:\n",
    "        step = step + 1\n",
    "    else:\n",
    "        step = step + np.random.randint(1,7)\n",
    "\n",
    "    # append next_step to random_walk\n",
    "    random_walk.append(step)\n",
    "\n",
    "# Print random_walk\n",
    "print(random_walk)"
   ]
  },
  {
   "cell_type": "code",
   "execution_count": null,
   "id": "331567a9",
   "metadata": {},
   "outputs": [],
   "source": [
    "df[Q.str.contains(pattern, na=False)] #Q is a column in df, pattern is the string or regex pattern you want to match, \n",
    "# na=False to handle NaN values (i.e. if any value is NaN will be treated as False, so not included in the result)\n",
    "\n",
    "Q.str.contains(r\"\\bbinge\\b\") # 的意思是：这行文本里是否出现独立单词 “binge”\n",
    "# r\"\\bbinge\\b\" 是一个正则表达式，表示匹配独立的单词 \"binge\", r = raw string, \\b means word boundary (i.e. space)\n",
    "\n",
    "# & / | / ～ 是逐元素的布尔运算（按位 AND/OR/NOT），用于组合两/多个series\n",
    "## example：\n",
    "binge = crude_pct[\n",
    "    Q.str.contains(r\"\\bbinge\\b\", na=False) &\n",
    "    (Q.str.contains(\"high school\", na=False) | Q.str.contains(\"student\", na=False))\n",
    "].copy()\n",
    "\n",
    "# copy() 这里的意思是：创建一个新的 DataFrame，而不是对原始 DataFrame 的视图，这样可以避免在后续操作中对原始数据进行意外修改。\n",
    "# 最后得到：binge 子集 = 题目里有独立单词“binge”，而且还提到 “high school” 或 “student” 的行（即“高中生暴饮”相关）\n",
    "# “student” 这个词可以匹配 “students” 或 “student's”，因为它不是独立单词，不像 r“\\bbinge\\b”，也可以r\"students?\", s?表示s可有可无\n",
    "\n",
    "Q = crude_pct[\"Question\"].astype(str).str.lower()\n",
    "# 这里的意思是：把 crude_pct 里 \"Question\" 这一列的所有值都转换成小写字符串 (i.e. 变成strings, 并且全部小写)\n",
    "# 也可以使用：\n",
    "case = False # 在binge = crude_pct[..., na=False, case=False] 里，但这样的话，每个 Q.str.contains() 里都要加 case=False\n",
    "\n",
    "\n"
   ]
  },
  {
   "cell_type": "markdown",
   "id": "1f5eeaf9",
   "metadata": {},
   "source": [
    "# Functions"
   ]
  },
  {
   "cell_type": "markdown",
   "id": "1905c2d8",
   "metadata": {},
   "source": [
    "## Types of Scopes\n",
    "Global scope - defined in the main body of a script\n",
    "Local scope - defined inside a function\n",
    "Built-in scope - names in the pre-defined built-ins module\n",
    "\n",
    "Variables defined inside a function are not \"visible\" outside the function."
   ]
  },
  {
   "cell_type": "code",
   "execution_count": null,
   "id": "108e54bb",
   "metadata": {},
   "outputs": [],
   "source": [
    "def example_function(param1, param2):\n",
    "    result = param1 + param2\n",
    "    return result"
   ]
  },
  {
   "cell_type": "code",
   "execution_count": 8,
   "id": "320b31a3",
   "metadata": {},
   "outputs": [
    {
     "name": "stdout",
     "output_type": "stream",
     "text": [
      "Local Scope\n"
     ]
    }
   ],
   "source": [
    "x = \"Global Scope\"\n",
    "\n",
    "def outer_func():\n",
    "    x = \"Enclosing Scope\"\n",
    "    \n",
    "    def inner_func():\n",
    "        x = \"Local Scope\"\n",
    "        print(x)\n",
    "    inner_func()\n",
    "\n",
    "outer_func()"
   ]
  },
  {
   "cell_type": "markdown",
   "id": "395d1357",
   "metadata": {},
   "source": [
    "## Tuple packing"
   ]
  },
  {
   "cell_type": "markdown",
   "id": "ef740890",
   "metadata": {},
   "source": [
    "Tuple packing lets us pack multiple values into a tuple, and is useful when returning multiple values from a function. In the context of a function, we can use the*character to delineate that any subsequent positional arguments should be packed into a tuple."
   ]
  },
  {
   "cell_type": "code",
   "execution_count": 7,
   "id": "684e8dad",
   "metadata": {},
   "outputs": [
    {
     "data": {
      "text/plain": [
       "(1, 2, 3)"
      ]
     },
     "execution_count": 7,
     "metadata": {},
     "output_type": "execute_result"
    }
   ],
   "source": [
    "x= 1, 2, 3\n",
    "x"
   ]
  },
  {
   "cell_type": "code",
   "execution_count": 8,
   "id": "7e8b1621",
   "metadata": {},
   "outputs": [
    {
     "name": "stdout",
     "output_type": "stream",
     "text": [
      "1\n",
      "2\n",
      "3\n"
     ]
    }
   ],
   "source": [
    "a, b, c = x\n",
    "print(a)\n",
    "print(b)\n",
    "print(c)"
   ]
  },
  {
   "cell_type": "code",
   "execution_count": 10,
   "id": "f304a649",
   "metadata": {},
   "outputs": [],
   "source": [
    "def foo(a, *args):\n",
    "    print(f\"a is: {a}\")\n",
    "    print(f\"args are: {args}\")"
   ]
  },
  {
   "cell_type": "code",
   "execution_count": 13,
   "id": "7baf64ce",
   "metadata": {},
   "outputs": [
    {
     "name": "stdout",
     "output_type": "stream",
     "text": [
      "a is: 1\n",
      "args are: ()\n"
     ]
    }
   ],
   "source": [
    "foo(a=1)"
   ]
  },
  {
   "cell_type": "code",
   "execution_count": 14,
   "id": "42628c9c",
   "metadata": {},
   "outputs": [
    {
     "name": "stdout",
     "output_type": "stream",
     "text": [
      "a is: 1\n",
      "args are: (2, 3, 4)\n"
     ]
    }
   ],
   "source": [
    "foo(1,2,3,4)"
   ]
  },
  {
   "cell_type": "code",
   "execution_count": 20,
   "id": "93992cf7",
   "metadata": {},
   "outputs": [],
   "source": [
    "# dictionary packing\n",
    "\n",
    "def foo(a, **kwargs):\n",
    "    print(f\"a is: {a}\")\n",
    "    print(f\"kwargs are: {kwargs}\")"
   ]
  },
  {
   "cell_type": "code",
   "execution_count": 16,
   "id": "b1028381",
   "metadata": {},
   "outputs": [
    {
     "name": "stdout",
     "output_type": "stream",
     "text": [
      "a is: 1\n",
      "kwargs are: {}\n"
     ]
    }
   ],
   "source": [
    "foo(1)"
   ]
  },
  {
   "cell_type": "code",
   "execution_count": 21,
   "id": "314cbf16",
   "metadata": {},
   "outputs": [
    {
     "name": "stdout",
     "output_type": "stream",
     "text": [
      "a is: 1\n",
      "kwargs are: {'b': 2, 'c': 3, 'd': 4}\n"
     ]
    }
   ],
   "source": [
    "foo(a=1, b=2, c=3, d=4)"
   ]
  },
  {
   "cell_type": "code",
   "execution_count": 22,
   "id": "cd27165a",
   "metadata": {},
   "outputs": [],
   "source": [
    "## combining a single value, *args and **kwargs, to make very flexible functions\n",
    "def foo(a, *args, **kwargs):\n",
    "    print(f\"a is: {a}\")\n",
    "    print(f\"args are: {args}\")\n",
    "    print(f\"kwargs are: {kwargs}\")"
   ]
  },
  {
   "cell_type": "code",
   "execution_count": 23,
   "id": "ebdf0dff",
   "metadata": {},
   "outputs": [
    {
     "name": "stdout",
     "output_type": "stream",
     "text": [
      "a is: 1\n",
      "args are: (2, 3)\n",
      "kwargs are: {'d': 4, 'e': 5}\n"
     ]
    }
   ],
   "source": [
    "foo(1, 2, 3, d=4, e=5)"
   ]
  },
  {
   "cell_type": "code",
   "execution_count": 24,
   "id": "780596b7",
   "metadata": {},
   "outputs": [],
   "source": [
    "def foo(a, b):\n",
    "    return a + b\n",
    "\n",
    "def bar(a, b, which = \"multiply\"):\n",
    "    if which == \"multiply\":\n",
    "        return a * b\n",
    "    else:                               ## \"else\" here可有可无\n",
    "        return a / b\n",
    "    \n",
    "def choose(kind=\"foo\", *args, **kwargs):\n",
    "    if kind == \"foo\":                   ## unpack the arguments into foo ??\n",
    "        return foo(*args)\n",
    "    else: \n",
    "        return bar(*args, **kwargs)"
   ]
  },
  {
   "cell_type": "code",
   "execution_count": null,
   "id": "6a1a3167",
   "metadata": {},
   "outputs": [
    {
     "name": "stdout",
     "output_type": "stream",
     "text": [
      "3\n",
      "2\n",
      "0.5\n"
     ]
    }
   ],
   "source": [
    "print(choose(\"foo\", 1, 2)) ## 1+2, 这里满足kind == \"foo\"的条件，触发foo function\n",
    "print(choose(\"bar\", 1, 2)) ## 1*2, defined in bar(a, b, which=\"multiply\"), default which is \"multiply\"如果which=\"multiply\"写在def()里，作为which的default value\n",
    "print(choose(\"bar\", 1, 2, which=\"divide\")) ## 1/2, 这里which=\"divide\"覆盖了bar()里which的default value，触发bar function里的else指令"
   ]
  },
  {
   "cell_type": "markdown",
   "id": "e9fdf3d2",
   "metadata": {},
   "source": [
    "# Description\n",
    "\n",
    "df[['chocolate', 'sugarpercent']].describe()\n",
    "\n",
    "### 看一下莫个categorical variable数量:\n",
    "df.chocolate.value_counts().sort_index()\n",
    "\n",
    "### 看一下莫个categorical variable的百分比数量:\n",
    "df.chocolate.value_counts(normalize=True).sort_index()\n",
    "\n",
    "## histogram:\n",
    "sns.histplot(data=df, x='chocolate')\n",
    "\n"
   ]
  }
 ],
 "metadata": {
  "kernelspec": {
   "display_name": "Python 3",
   "language": "python",
   "name": "python3"
  },
  "language_info": {
   "codemirror_mode": {
    "name": "ipython",
    "version": 3
   },
   "file_extension": ".py",
   "mimetype": "text/x-python",
   "name": "python",
   "nbconvert_exporter": "python",
   "pygments_lexer": "ipython3",
   "version": "3.12.5"
  }
 },
 "nbformat": 4,
 "nbformat_minor": 5
}
